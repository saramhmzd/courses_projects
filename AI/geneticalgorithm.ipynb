{
 "cells": [
  {
   "cell_type": "code",
   "execution_count": 1,
   "metadata": {},
   "outputs": [],
   "source": [
    "import numpy as np\n",
    "import math\n",
    "import random\n",
    "from random import shuffle\n",
    "import matplotlib.pyplot as plt"
   ]
  },
  {
   "cell_type": "code",
   "execution_count": 15,
   "metadata": {},
   "outputs": [],
   "source": [
    "with open('input.txt') as f:\n",
    "    n = int(f.readline())\n",
    "    A = np.zeros((n+1,n+1))\n",
    "    for line in f: \n",
    "        a, b = [int(x) for x in line.split()]\n",
    "        A[a][b] = 1"
   ]
  },
  {
   "cell_type": "code",
   "execution_count": 16,
   "metadata": {},
   "outputs": [],
   "source": [
    "def myshuffle(n):\n",
    "    x = []\n",
    "    for i in range(1, n+1):\n",
    "        x.append(i)\n",
    "    shuffle(x)\n",
    "    return(x)"
   ]
  },
  {
   "cell_type": "code",
   "execution_count": 17,
   "metadata": {},
   "outputs": [],
   "source": [
    "def objective(chrome):\n",
    "    obj = 0\n",
    "    for i in range(n):\n",
    "        obj += penalty(i, chrome)\n",
    "    return obj"
   ]
  },
  {
   "cell_type": "code",
   "execution_count": 18,
   "metadata": {},
   "outputs": [],
   "source": [
    "def penalty(i, chrome):\n",
    "    penalt = 0\n",
    "    for j in range(i+1, n):\n",
    "        if A[chrome[j]][chrome[i]] == 1:\n",
    "            penalt += 1\n",
    "    return penalt"
   ]
  },
  {
   "cell_type": "code",
   "execution_count": 19,
   "metadata": {},
   "outputs": [],
   "source": [
    "def index_max_p(chrome):\n",
    "    max_penalty = 0\n",
    "    index = 0\n",
    "    for i in range(n-1):\n",
    "        current_p = penalty(i,chrome)\n",
    "        if max_penalty < current_p:\n",
    "            max_penalty = current_p\n",
    "            index = i\n",
    "    return index"
   ]
  },
  {
   "cell_type": "code",
   "execution_count": 44,
   "metadata": {},
   "outputs": [],
   "source": [
    "population_size = 40\n",
    "max_pop_size = 50\n",
    "crossover_coeff = 0.8\n",
    "mutation_coeff = 0.3\n",
    "max_iteration = 500\n",
    "num_crossover = round(population_size*crossover_coeff)\n",
    "num_mutation = round(population_size*mutation_coeff)\n",
    "\n",
    "population = []\n",
    "object_values = []\n",
    "best_objective = 500\n",
    "best_chromosome = []\n",
    "\n",
    "best_objs = []"
   ]
  },
  {
   "cell_type": "code",
   "execution_count": 45,
   "metadata": {},
   "outputs": [],
   "source": [
    "def init_pop(length):\n",
    "    for i in range(length):\n",
    "        x = myshuffle(n)\n",
    "        population.append(x)\n",
    "        object_values.append(objective(x))"
   ]
  },
  {
   "cell_type": "code",
   "execution_count": 46,
   "metadata": {},
   "outputs": [],
   "source": [
    "init_pop(population_size)"
   ]
  },
  {
   "cell_type": "code",
   "execution_count": 47,
   "metadata": {},
   "outputs": [],
   "source": [
    "for i in range(max_iteration):\n",
    "    \n",
    "##### roulette wheel #####\n",
    "    summation = sum(object_values)\n",
    "    pr = []\n",
    "    cumulative_pr = []\n",
    "    for i in range(population_size):\n",
    "        pr.append(object_values[i]/summation)\n",
    "    cumulative_pr.append(pr[0])\n",
    "    for i in range(1, population_size-1):\n",
    "        temp = cumulative_pr[i-1] + pr[i]\n",
    "        cumulative_pr.append(temp)\n",
    "    cumulative_pr.append(1)\n",
    "\n",
    "    for i in range(0, int(num_crossover)):\n",
    "        p1 = 0\n",
    "        temp = np.random.rand()\n",
    "        while cumulative_pr[p1] < temp:\n",
    "            p1 = p1 + 1\n",
    "        p2 = p1\n",
    "        while p1 == p2:\n",
    "            temp = np.random.rand()\n",
    "            p = 0\n",
    "            while cumulative_pr[p] < temp:\n",
    "                p = p + 1\n",
    "            p2 = p\n",
    "\n",
    "        parent1 = population[p1]\n",
    "        parent2 = population[p2]\n",
    "        \n",
    "##### crossover #####\n",
    "        temp = np.random.randint(n)\n",
    "        temp_2 = temp\n",
    "        child1 = parent1[0:temp] \n",
    "        while temp_2 < n:\n",
    "            if parent2[temp%n] in child1:\n",
    "                temp += 1\n",
    "            else:\n",
    "                child1.append(parent2[temp%n])\n",
    "                temp_2 += 1\n",
    "            \n",
    "        population.append(child1)\n",
    "        object_values.append(objective(child1))\n",
    "\n",
    "##### mutation ##### \n",
    "    for i in range(num_mutation):\n",
    "        temp = np.random.randint(num_crossover)\n",
    "        temp = population_size + temp \n",
    "        mutated = population[temp].copy()\n",
    "        i = index_max_p(mutated)\n",
    "        j = random.randint(i+1,n-1)\n",
    "        mutated[i] = population[temp][j]\n",
    "        mutated[j] = population[temp][i]\n",
    "        population.append(mutated)\n",
    "        object_values.append(objective(mutated))  \n",
    "\n",
    "        \n",
    "##### ----------- #####\n",
    "    # update best solution\n",
    "    best_objective = min(object_values)\n",
    "    best_arg = np.argmin(object_values)\n",
    "    best_chromosome = population[best_arg]\n",
    "\n",
    "    # keep best chromosomes\n",
    "    if len(population) > max_pop_size:\n",
    "        temp_population = []\n",
    "        temp_objective = []\n",
    "        args = np.argsort(object_values)\n",
    "        for i in range(max_pop_size):\n",
    "            temp_population.append(population[args[i]])\n",
    "            temp_objective.append(object_values[args[i]])\n",
    "        population = temp_population\n",
    "        object_values = temp_objective\n",
    "        population_size = max_pop_size\n",
    "        \n",
    "    best_objs.append(best_objective) \n"
   ]
  },
  {
   "cell_type": "code",
   "execution_count": 48,
   "metadata": {},
   "outputs": [
    {
     "name": "stdout",
     "output_type": "stream",
     "text": [
      "2\n",
      "[20, 7, 16, 3, 8, 1, 4, 2, 15, 6, 13, 9, 11, 14, 10, 19, 18, 12, 17, 5]\n"
     ]
    }
   ],
   "source": [
    "print(best_objective)\n",
    "print(best_chromosome)"
   ]
  },
  {
   "cell_type": "code",
   "execution_count": 49,
   "metadata": {},
   "outputs": [
    {
     "data": {
      "image/png": "[encoded data removed]",
      "text/plain": [
       "<Figure size 432x288 with 1 Axes>"
      ]
     },
     "metadata": {
      "needs_background": "light"
     },
     "output_type": "display_data"
    }
   ],
   "source": [
    "x = []\n",
    "for i in range(max_iteration):\n",
    "    x.append(i)\n",
    "y = best_objs\n",
    " \n",
    "\n",
    "plt.plot(x, y)\n",
    "plt.xlabel('iteration')\n",
    "plt.ylabel('best objective value')\n",
    " \n",
    "\n",
    "plt.title('Convergence of genetic algorithm')\n",
    "plt.show()"
   ]
  },
  {
   "cell_type": "code",
   "execution_count": null,
   "metadata": {},
   "outputs": [],
   "source": []
  }
 ],
 "metadata": {
  "kernelspec": {
   "display_name": "Python 3",
   "language": "python",
   "name": "python3"
  },
  "language_info": {
   "codemirror_mode": {
    "name": "ipython",
    "version": 3
   },
   "file_extension": ".py",
   "mimetype": "text/x-python",
   "name": "python",
   "nbconvert_exporter": "python",
   "pygments_lexer": "ipython3",
   "version": "3.7.4"
  }
 },
 "nbformat": 4,
 "nbformat_minor": 2
}
