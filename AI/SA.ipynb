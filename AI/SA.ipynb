{
 "cells": [
  {
   "cell_type": "code",
   "execution_count": 1,
   "metadata": {},
   "outputs": [],
   "source": [
    "import numpy as np\n",
    "import math\n",
    "import random\n",
    "from random import shuffle"
   ]
  },
  {
   "cell_type": "code",
   "execution_count": 2,
   "metadata": {},
   "outputs": [],
   "source": [
    "with open('input.txt') as f:\n",
    "    n = int(f.readline())\n",
    "    A = np.zeros((n+1,n+1))\n",
    "    for line in f: \n",
    "        a, b = [int(x) for x in line.split()]\n",
    "        A[a][b] = 1"
   ]
  },
  {
   "cell_type": "code",
   "execution_count": 3,
   "metadata": {},
   "outputs": [],
   "source": [
    "def myshuffle(n):\n",
    "    x = []\n",
    "    for i in range(1, n+1):\n",
    "        x.append(i)\n",
    "    shuffle(x)\n",
    "    return(x)"
   ]
  },
  {
   "cell_type": "code",
   "execution_count": 4,
   "metadata": {},
   "outputs": [],
   "source": [
    "def objective(chrome):\n",
    "    obj = 0\n",
    "    for i in range(n):\n",
    "        obj += penalti(i, chrome)\n",
    "    return obj"
   ]
  },
  {
   "cell_type": "code",
   "execution_count": 5,
   "metadata": {},
   "outputs": [],
   "source": [
    "def penalti(i, chrome):\n",
    "    penalt = 0\n",
    "    for j in range(i+1, n):\n",
    "        if A[chrome[j]][chrome[i]] == 1:\n",
    "            penalt += 1\n",
    "    return penalt"
   ]
  },
  {
   "cell_type": "code",
   "execution_count": 6,
   "metadata": {},
   "outputs": [],
   "source": [
    "T = 1000000\n",
    "t_change = 0.999"
   ]
  },
  {
   "cell_type": "code",
   "execution_count": 7,
   "metadata": {},
   "outputs": [],
   "source": [
    "solution = myshuffle(n)\n",
    "fitness = objective(solution)"
   ]
  },
  {
   "cell_type": "code",
   "execution_count": 10,
   "metadata": {},
   "outputs": [],
   "source": [
    "def index_max_p(chrome):\n",
    "    max_penalti = 0\n",
    "    index = 0\n",
    "    for i in range(n-1):\n",
    "        current_p = penalti(i,chrome)\n",
    "        if max_penalti < current_p:\n",
    "            max_penalti = current_p\n",
    "            index = i\n",
    "    return index"
   ]
  },
  {
   "cell_type": "code",
   "execution_count": 11,
   "metadata": {},
   "outputs": [],
   "source": [
    "while T>0 and fitness != 0:\n",
    "    neighbour = solution.copy()\n",
    "    i = index_max_p(neighbour)\n",
    "    j = random.randint(i+1,n-1)\n",
    "    neighbour[i] = solution[j]\n",
    "    neighbour[j] = solution[i]\n",
    "    fit = objective(neighbour)\n",
    "    delta = fitness - fit\n",
    "    if delta>=0:\n",
    "        solution = neighbour\n",
    "        fitness = fit\n",
    "    else:\n",
    "        p = math.exp(delta/T)\n",
    "        if p>= 0.999:\n",
    "            solution = neighbour\n",
    "            fitness = fit\n",
    "    T = int(T*t_change)"
   ]
  },
  {
   "cell_type": "code",
   "execution_count": 12,
   "metadata": {},
   "outputs": [
    {
     "name": "stdout",
     "output_type": "stream",
     "text": [
      "[20, 3, 2, 8, 1, 7, 4, 10, 19, 18, 17, 16, 15, 6, 11, 12, 9, 13, 14, 5]\n",
      "0\n"
     ]
    }
   ],
   "source": [
    "print(solution)\n",
    "print(fitness)"
   ]
  }
 ],
 "metadata": {
  "kernelspec": {
   "display_name": "Python 3",
   "language": "python",
   "name": "python3"
  },
  "language_info": {
   "codemirror_mode": {
    "name": "ipython",
    "version": 3
   },
   "file_extension": ".py",
   "mimetype": "text/x-python",
   "name": "python",
   "nbconvert_exporter": "python",
   "pygments_lexer": "ipython3",
   "version": "3.7.4"
  }
 },
 "nbformat": 4,
 "nbformat_minor": 2
}
