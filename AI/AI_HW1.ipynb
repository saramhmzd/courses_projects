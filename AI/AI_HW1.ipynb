{
 "cells": [
  {
   "cell_type": "code",
   "execution_count": 1,
   "metadata": {},
   "outputs": [],
   "source": [
    "from random import shuffle \n",
    "\n",
    "def find_pos(matrix, val):\n",
    "    for i in range(3):\n",
    "        for j in range(3):\n",
    "            if matrix[i][j] == val:\n",
    "                return i, j\n",
    "            \n",
    "def myprint(node):\n",
    "    if node != first:\n",
    "        print(f\" [{node.a_0+1}][{node.b_0+1}] --> [{node.a+1}][{node.b+1}] :\")\n",
    "    else:\n",
    "        print(\"Start:\")\n",
    "    print(node.val[0])\n",
    "    print(node.val[1])\n",
    "    print(node.val[2])\n",
    "    print(f\" f = g + h = {node.g} + {node.heuristic(goal)}  => f score is {node.f} \\n\")\n",
    "    \n",
    "def myshuffle():\n",
    "    x = [1,2,3,4,5,6,7,8,0]\n",
    "    shuffle(x)\n",
    "    s = []\n",
    "    a = []\n",
    "    for i in range(9):\n",
    "        a.append(x[i])\n",
    "        if i%3 == 2:\n",
    "            s.append(a)\n",
    "            a = []\n",
    "    return(s)"
   ]
  },
  {
   "cell_type": "code",
   "execution_count": 2,
   "metadata": {},
   "outputs": [],
   "source": [
    "class Node:\n",
    "    def __init__(self,val,g,f,a,b,a_0,b_0):\n",
    "        self.val = val\n",
    "        self.g = g\n",
    "        self.f = f\n",
    "        self.a_0 = a_0\n",
    "        self.b_0 = b_0\n",
    "        self.a = a\n",
    "        self.b = b\n",
    "    def fval(self, goal):\n",
    "        self.f = self.heuristic(goal)+self.g\n",
    "    \n",
    "    def heuristic(self, goal):\n",
    "        h = 0\n",
    "        for i in range(1,9):\n",
    "            x_1, y_1 = find_pos(self.val, i)\n",
    "            x_2, y_2 = find_pos(goal, i)\n",
    "            h += abs(y_1 - y_2) + abs(x_1-x_2)\n",
    "        return h\n",
    "    \n",
    "    def generate_child(self):\n",
    "        x,y = find_pos(self.val, 0)\n",
    "        val_list = [[x,y-1],[x,y+1],[x-1,y],[x+1,y]]\n",
    "        children = []\n",
    "        for i in val_list:\n",
    "            child = self.shuffle(self.val,x,y,i[0],i[1])\n",
    "            if child is not None:\n",
    "                child_node = Node(child,self.g+1,0,i[0], i[1],x,y)\n",
    "                child_node.fval(goal)\n",
    "                children.append(child_node)\n",
    "        return children\n",
    "    \n",
    "    def shuffle(self, value, x_0, y_0, x, y):\n",
    "        if x < 0 or y < 0 or x > 2 or y > 2:\n",
    "            mlist = None\n",
    "        else:\n",
    "            mlist = self.copy(value)\n",
    "            mlist[x_0][y_0] = mlist[x][y]\n",
    "            mlist[x][y] = 0\n",
    "        return mlist\n",
    "    \n",
    "    def copy(self,root):\n",
    "        temp = []\n",
    "        for i in root:\n",
    "            t = []\n",
    "            for j in i:\n",
    "                t.append(j)\n",
    "            temp.append(t)\n",
    "        return temp "
   ]
  },
  {
   "cell_type": "code",
   "execution_count": 3,
   "metadata": {},
   "outputs": [],
   "source": [
    "#start = myshuffle()\n",
    "start = [[1, 0, 8], [4, 2, 6], [7,3, 5]]\n",
    "goal = [[1,2,3], [4, 5, 6], [7, 8, 9]]"
   ]
  },
  {
   "cell_type": "code",
   "execution_count": 4,
   "metadata": {},
   "outputs": [],
   "source": [
    "Open = []\n",
    "first = Node(start,0,0,0,0,0,0)\n",
    "first.fval(goal)\n",
    "Open.append(first)"
   ]
  },
  {
   "cell_type": "code",
   "execution_count": null,
   "metadata": {},
   "outputs": [],
   "source": [
    "node = first\n",
    "while True:\n",
    "    myprint(node)\n",
    "    if node.heuristic(goal) == 0:\n",
    "        break\n",
    "    for i in node.generate_child():\n",
    "        Open.append(i)\n",
    "    del Open[0]\n",
    "    Open.sort(key = lambda x:x.f,reverse=False)\n",
    "    node = Open[0]"
   ]
  }
 ],
 "metadata": {
  "kernelspec": {
   "display_name": "Python 3",
   "language": "python",
   "name": "python3"
  },
  "language_info": {
   "codemirror_mode": {
    "name": "ipython",
    "version": 3
   },
   "file_extension": ".py",
   "mimetype": "text/x-python",
   "name": "python",
   "nbconvert_exporter": "python",
   "pygments_lexer": "ipython3",
   "version": "3.7.4"
  }
 },
 "nbformat": 4,
 "nbformat_minor": 2
}
