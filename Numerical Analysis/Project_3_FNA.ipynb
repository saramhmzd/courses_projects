{
  "nbformat": 4,
  "nbformat_minor": 0,
  "metadata": {
    "colab": {
      "name": "Project_3_FNA.ipynb",
      "provenance": [],
      "collapsed_sections": []
    },
    "kernelspec": {
      "name": "python3",
      "display_name": "Python 3"
    },
    "language_info": {
      "name": "python"
    }
  },
  "cells": [
    {
      "cell_type": "code",
      "execution_count": 7,
      "metadata": {
        "id": "r0lhpXwiSNVQ",
        "colab": {
          "base_uri": "https://localhost:8080/"
        },
        "outputId": "8055c089-186a-4402-921e-e3ca655cc884"
      },
      "outputs": [
        {
          "output_type": "stream",
          "name": "stdout",
          "text": [
            "Enter the number of matrix rows (and columns):2\n",
            "Enter the entries of A rowwise:\n",
            "2\n",
            "-2\n",
            "-1\n",
            "3\n",
            "Enter the entries of b:\n",
            "-4\n",
            "4\n",
            "Matrix is posetive defenit\n",
            "L:\n",
            "[[ 1.41421356  0.        ]\n",
            " [-0.70710678  1.58113883]]\n",
            "L^T:\n",
            "[[ 1.41421356 -1.41421356]\n",
            " [ 0.          1.        ]]\n",
            "Solution of Ax=b is: \n",
            "[-0.73508894  1.26491106]\n"
          ]
        }
      ],
      "source": [
        "from numpy.linalg.linalg import matrix_rank\n",
        "import numpy as np\n",
        "import scipy\n",
        "import scipy.linalg \n",
        "\n",
        "\n",
        "\n",
        "N = int(input(\"Enter the number of matrix rows (and columns):\"))\n",
        "\n",
        "b = []\n",
        "matrix = []\n",
        "print(\"Enter the entries of A rowwise:\")\n",
        "  \n",
        "for i in range(N):          \n",
        "    a =[]\n",
        "    for j in range(N):     \n",
        "         a.append(float(input()))\n",
        "    matrix.append(a)\n",
        "A = np.array(matrix)\n",
        "print(\"Enter the entries of b:\")  \n",
        "for i in range(N):     \n",
        "    b.append(float(input()))\n",
        "\n",
        "if(np.all(np.linalg.eigvals(A) > 0)):\n",
        "  print(\"Matrix is posetive defenit\")\n",
        "  L = scipy.linalg.cholesky(A, lower=True)\n",
        "  U = scipy.linalg.cholesky(A, lower=False)  \n",
        "  print(\"L:\") \n",
        "  print(L)\n",
        "  print(\"L^T:\")\n",
        "  print(U)\n",
        "else:\n",
        "  print(\"Matrix is not posetive defenit\")\n",
        "  L = np.identity(N)\n",
        "  for k in range(0,N-1):\n",
        "    for i in range(k+1,N):\n",
        "      if A[i,k] != 0.0:\n",
        "        lam = A[i,k]/A[k,k]\n",
        "        L[i,k]=lam\n",
        "        A[i,k+1:N] = A[i,k+1:N] - lam*A[k,k+1:N]\n",
        "        A[i,k] = 0\n",
        "  U = A\n",
        "  print(\"L:\")\n",
        "  print(L)\n",
        "  print(\"U:\")\n",
        "  print(U)\n",
        "\n",
        "Y = np.linalg.solve(L,b)\n",
        "X = np.linalg.solve(U,Y)\n",
        "\n",
        "print(\"Solution of Ax=b is: \")\n",
        "print(X)"
      ]
    }
  ]
}