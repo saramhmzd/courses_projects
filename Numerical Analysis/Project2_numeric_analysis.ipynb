{
  "nbformat": 4,
  "nbformat_minor": 0,
  "metadata": {
    "colab": {
      "name": "Project2_numeric_analysis.ipynb",
      "provenance": [],
      "collapsed_sections": []
    },
    "kernelspec": {
      "name": "python3",
      "display_name": "Python 3"
    },
    "language_info": {
      "name": "python"
    }
  },
  "cells": [
    {
      "cell_type": "code",
      "source": [
        "import numpy as np\n",
        "\n",
        "N = int(input(\"Enter a number as the number of points: \"))\n",
        "x = []\n",
        "y = []\n",
        "for i in range(1,N+1):\n",
        "  x.append(int(input(f\"Enter x{i}: \")))\n",
        "  y.append(int(input(f\"Enter y{i}: \")))\n",
        "n = int(input(\"Enter a number as the number of degree of polynomial: \"))\n",
        "\n",
        "def sigma_1(k):\n",
        "  sigma = 0\n",
        "  for i in range(N):\n",
        "    sigma += x[i]**k\n",
        "  return sigma\n",
        "\n",
        "def sigma_2(k):\n",
        "  sigma = 0\n",
        "  for i in range(N):\n",
        "    sigma += (x[i]**k)*y[i]\n",
        "  return sigma\n",
        "\n",
        "S = []\n",
        "for i in range(n+1):          \n",
        "    s =[]\n",
        "    for j in range(n+1):\n",
        "      if i != n or j != n:      \n",
        "         s.append(sigma_1(2*n-(i+j)))\n",
        "      else:\n",
        "        s.append(N)\n",
        "    S.append(s)\n",
        "\n",
        "b = []\n",
        "for i in range(n,-1,-1):\n",
        "  b.append(sigma_2(i))\n",
        "\n",
        "a = np.linalg.solve(S,b)\n",
        "\n",
        "print(f\"The coefficients of the polynomial of degree {n}  are:\")\n",
        "print(a)\n",
        "\n",
        "print(f\"The best polynomail of degree {n} is:\")\n",
        "for i in range(0,n):\n",
        "  if a[i] != 0:\n",
        "    print(f\"({a[i]:+})x^{n-i}\",end='')\n",
        "if a[n] != 0:\n",
        "  print(f\"{a[n]:+}\")\n",
        "\n",
        "def p_(x):\n",
        "  sigma = 0\n",
        "  for i in range(0,n+1):\n",
        "    sigma += a[i]*(x**(n-i))\n",
        "  return sigma\n",
        "\n",
        "LEE = 0\n",
        "for i in range(N):\n",
        "  LEE += (y[i] - p_(x[i]))**2\n",
        "\n",
        "print(\"The LEE is :\")\n",
        "print(LEE)"
      ],
      "metadata": {
        "id": "N0VdlP6nM9hK",
        "colab": {
          "base_uri": "https://localhost:8080/"
        },
        "outputId": "e793fd6e-ae72-4b32-be66-f30a4e4b02ca"
      },
      "execution_count": null,
      "outputs": [
        {
          "output_type": "stream",
          "name": "stdout",
          "text": [
            "Enter a number as the number of points: 3\n",
            "Enter x1: -1\n",
            "Enter y1: -3\n",
            "Enter x2: 0\n",
            "Enter y2: -1\n",
            "Enter x3: 1\n",
            "Enter y3: 1\n",
            "Enter a number as the number of degree of polynomial: 2\n",
            "[[2, 0, 2], [0, 2, 0], [2, 0, 3]]\n",
            "[-2, 4, -3]\n",
            "The coefficients of the polynomial of degree 2  are:\n",
            "[ 0.  2. -1.]\n",
            "The best polynomail of degree 2 is:\n",
            "(+2.0)x^1-1.0\n",
            "The LEE is :\n",
            "0.0\n"
          ]
        }
      ]
    }
  ]
}