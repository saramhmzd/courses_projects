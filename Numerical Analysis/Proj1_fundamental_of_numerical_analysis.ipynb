{
  "nbformat": 4,
  "nbformat_minor": 0,
  "metadata": {
    "colab": {
      "name": "Proj1_fundamental_of_numerical_analysis.ipynb",
      "provenance": [],
      "collapsed_sections": []
    },
    "kernelspec": {
      "name": "python3",
      "display_name": "Python 3"
    },
    "language_info": {
      "name": "python"
    }
  },
  "cells": [
    {
      "cell_type": "code",
      "metadata": {
        "colab": {
          "base_uri": "https://localhost:8080/"
        },
        "id": "Qv0_PEg3Qd98",
        "outputId": "ee54ee45-2732-4fc1-8545-32d670f6400c"
      },
      "source": [
        "import math\n",
        "\n",
        "L = 6.00\n",
        "R = 5.00\n",
        "def F_function(x):\n",
        "    f=x*math.cosh(L/x-math.acosh(R/x))-R\n",
        "    return f\n",
        "\n",
        "def diff_F_function(x):\n",
        "    diff_f=math.sinh(L/x-math.acosh(R/x))*(R/(math.sqrt((R**2/x**2)-1)*x**2)-L/x**2)*x+math.cosh(L/x-math.acosh(R/x))\n",
        "    return diff_f\n",
        "\n",
        "n = int(input(\"Enter the number of repetitions:\"))\n",
        "x0 = float(input(\"Enter a number as an initial guess:\"))\n",
        "\n",
        "#xn-1 = a, xn = b\n",
        "a = x0\n",
        "\n",
        "for i in range(1,n):\n",
        "    b = a - F_function(a)/diff_F_function(a)\n",
        "    a = b\n",
        "    #print(f\"x{i} = b\")\n",
        "    \n",
        "print(f\"\\nThe approximation to root of F(x) is {b} after {n} repetitions with {x0} as an initial guess\\n\")\n",
        "print(f\"The value of F({b}) is {F_function(b)}\")"
      ],
      "execution_count": null,
      "outputs": [
        {
          "output_type": "stream",
          "name": "stdout",
          "text": [
            "Enter the number of repetitions:3\n",
            "Enter a number as an initial guess:3\n",
            "\n",
            "The approximation to root of F(x) is 3.7590814485072435 after 3 repetitions with 3.0 as an initial guess\n",
            "\n",
            "The value of F(3.7590814485072435) is 0.04237148417022496\n"
          ]
        }
      ]
    }
  ]
}