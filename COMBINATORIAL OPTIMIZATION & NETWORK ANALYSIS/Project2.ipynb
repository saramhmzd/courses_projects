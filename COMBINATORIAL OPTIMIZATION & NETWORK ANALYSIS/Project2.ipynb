{
  "cells": [
    {
      "cell_type": "code",
      "execution_count": null,
      "metadata": {
        "id": "TSIqbE5lzgEI",
        "colab": {
          "base_uri": "https://localhost:8080/"
        },
        "outputId": "5812e7f7-d8af-42b9-9faa-a853a5f0f46a"
      },
      "outputs": [
        {
          "output_type": "stream",
          "name": "stdout",
          "text": [
            "\u001b[2K     \u001b[90m━━━━━━━━━━━━━━━━━━━━━━━━━━━━━━━━━━━━━━━━\u001b[0m \u001b[32m11.9/11.9 MB\u001b[0m \u001b[31m37.0 MB/s\u001b[0m eta \u001b[36m0:00:00\u001b[0m\n",
            "\u001b[2K     \u001b[90m━━━━━━━━━━━━━━━━━━━━━━━━━━━━━━━━━━━━━━━━\u001b[0m \u001b[32m49.6/49.6 kB\u001b[0m \u001b[31m5.3 MB/s\u001b[0m eta \u001b[36m0:00:00\u001b[0m\n",
            "\u001b[?25hSelecting previously unselected package libsuitesparseconfig5:amd64.\n",
            "(Reading database ... 123069 files and directories currently installed.)\n",
            "Preparing to unpack .../libsuitesparseconfig5_1%3a5.7.1+dfsg-2_amd64.deb ...\n",
            "Unpacking libsuitesparseconfig5:amd64 (1:5.7.1+dfsg-2) ...\n",
            "Selecting previously unselected package libamd2:amd64.\n",
            "Preparing to unpack .../libamd2_1%3a5.7.1+dfsg-2_amd64.deb ...\n",
            "Unpacking libamd2:amd64 (1:5.7.1+dfsg-2) ...\n",
            "Selecting previously unselected package libcolamd2:amd64.\n",
            "Preparing to unpack .../libcolamd2_1%3a5.7.1+dfsg-2_amd64.deb ...\n",
            "Unpacking libcolamd2:amd64 (1:5.7.1+dfsg-2) ...\n",
            "Selecting previously unselected package libglpk40:amd64.\n",
            "Preparing to unpack .../libglpk40_4.65-2_amd64.deb ...\n",
            "Unpacking libglpk40:amd64 (4.65-2) ...\n",
            "Selecting previously unselected package glpk-utils.\n",
            "Preparing to unpack .../glpk-utils_4.65-2_amd64.deb ...\n",
            "Unpacking glpk-utils (4.65-2) ...\n",
            "Setting up libsuitesparseconfig5:amd64 (1:5.7.1+dfsg-2) ...\n",
            "Setting up libamd2:amd64 (1:5.7.1+dfsg-2) ...\n",
            "Setting up libcolamd2:amd64 (1:5.7.1+dfsg-2) ...\n",
            "Setting up libglpk40:amd64 (4.65-2) ...\n",
            "Setting up glpk-utils (4.65-2) ...\n",
            "Processing triggers for man-db (2.9.1-1) ...\n",
            "Processing triggers for libc-bin (2.31-0ubuntu9.9) ...\n",
            "\u001b[2K     \u001b[90m━━━━━━━━━━━━━━━━━━━━━━━━━━━━━━━━━━━━━━━━\u001b[0m \u001b[32m44.2/44.2 MB\u001b[0m \u001b[31m17.0 MB/s\u001b[0m eta \u001b[36m0:00:00\u001b[0m\n",
            "\u001b[?25h"
          ]
        }
      ],
      "source": [
        "!pip install -q pyomo\n",
        "!apt-get install -y -qq glpk-utils\n",
        "!pip install cplex -q"
      ]
    },
    {
      "cell_type": "code",
      "execution_count": null,
      "metadata": {
        "colab": {
          "base_uri": "https://localhost:8080/"
        },
        "id": "CyaQISd5wgng",
        "outputId": "cce713eb-787a-44b0-8fba-1de00da813a9"
      },
      "outputs": [
        {
          "output_type": "stream",
          "name": "stdout",
          "text": [
            "Reading package lists... Done\n",
            "Building dependency tree       \n",
            "Reading state information... Done\n",
            "\u001b[1;31mE: \u001b[0mUnable to locate package cplex-utils\u001b[0m\n",
            "Requirement already satisfied: cplex in /usr/local/lib/python3.10/dist-packages (22.1.1.0)\n"
          ]
        }
      ],
      "source": [
        "!apt install cplex-utils\n",
        "!pip install cplex"
      ]
    },
    {
      "cell_type": "code",
      "execution_count": null,
      "metadata": {
        "id": "9_XkNek55xfP"
      },
      "outputs": [],
      "source": [
        "import pyomo.environ as pyo\n",
        "import numpy as np\n",
        "import matplotlib.pyplot as plt"
      ]
    },
    {
      "cell_type": "markdown",
      "metadata": {
        "id": "cISOEF4E2_Gs"
      },
      "source": [
        "# Reading the *dataset*"
      ]
    },
    {
      "cell_type": "code",
      "execution_count": null,
      "metadata": {
        "id": "n_DuFwjO292e"
      },
      "outputs": [],
      "source": [
        "file_name = 'DebrisFlow'\n",
        "file_name += '.txt'\n",
        "\n",
        "X = []\n",
        "Y = []\n",
        "f = open(file_name)\n",
        "for i in f:\n",
        "  x, y = i.split()\n",
        "  X.append(float(x))\n",
        "  Y.append(float(y))\n",
        "I = len(X)\n",
        "# print(I)"
      ]
    },
    {
      "cell_type": "code",
      "execution_count": null,
      "metadata": {
        "colab": {
          "base_uri": "https://localhost:8080/",
          "height": 430
        },
        "id": "TOGjdpwf_g07",
        "outputId": "c7baecf3-de7b-4619-dee4-e3d0e861b1e0"
      },
      "outputs": [
        {
          "output_type": "display_data",
          "data": {
            "text/plain": [
              "<Figure size 640x480 with 1 Axes>"
            ],
            "image/png": "[encoded data removed]"
          },
          "metadata": {}
        }
      ],
      "source": [
        "xpoints = np.array(X)\n",
        "ypoints = np.array(Y)\n",
        "\n",
        "plt.plot(xpoints, ypoints, 'o')\n",
        "plt.show()"
      ]
    },
    {
      "cell_type": "markdown",
      "metadata": {
        "id": "zjJIyEbS3FSj"
      },
      "source": [
        "# Model 1"
      ]
    },
    {
      "cell_type": "code",
      "execution_count": null,
      "metadata": {
        "id": "YkjwgHSl6dNC"
      },
      "outputs": [],
      "source": [
        "model=pyo.ConcreteModel()"
      ]
    },
    {
      "cell_type": "markdown",
      "metadata": {
        "id": "6kEC77o66T9M"
      },
      "source": [
        "## index sets"
      ]
    },
    {
      "cell_type": "code",
      "execution_count": null,
      "metadata": {
        "id": "YArtcuAB5hya"
      },
      "outputs": [],
      "source": [
        "model.Iset=pyo.Set(initialize=range(1,I+1))"
      ]
    },
    {
      "cell_type": "markdown",
      "metadata": {
        "id": "gdFZ-1hW6w0n"
      },
      "source": [
        "## Params"
      ]
    },
    {
      "cell_type": "code",
      "execution_count": null,
      "metadata": {
        "id": "QMe1lFjk65Qo"
      },
      "outputs": [],
      "source": [
        "def rule_X(model, i):\n",
        "    return X[i-1]\n",
        "model.X = pyo.Param(model.Iset, initialize=rule_X)\n",
        "\n",
        "def rule_Y(model, i):\n",
        "    return Y[i-1]\n",
        "model.Y = pyo.Param(model.Iset, initialize=rule_Y)\n",
        "\n",
        "def find_C_down():\n",
        "  min_c = (model.Y[2] - model.Y[1])/(model.X[2] - model.X[1])\n",
        "  for i in range(1, I+1):\n",
        "    for j in range(1, I+1):\n",
        "      if i > j:\n",
        "        curr = (model.Y[i] - model.Y[j])/(model.X[i] - model.X[j])\n",
        "        if curr < min_c:\n",
        "          min_c = curr\n",
        "  return min_c\n",
        "\n",
        "def find_C_up():\n",
        "  max_c = (model.Y[2] - model.Y[1])/(model.X[2] - model.X[1])\n",
        "  for i in range(1, I+1):\n",
        "    for j in range(1, I+1):\n",
        "      if i > j:\n",
        "        curr = (model.Y[i] - model.Y[j])/(model.X[i] - model.X[j])\n",
        "        if curr > max_c:\n",
        "          max_c = curr\n",
        "  return max_c\n",
        "\n",
        "C_up = find_C_up()\n",
        "C_down = find_C_down()\n",
        "\n",
        "def find_D_down():\n",
        "  min_d = (model.Y[1] - C_up*model.X[1])\n",
        "  for i in range(1, I+1):\n",
        "      curr = (model.Y[i] - C_up*model.X[i])\n",
        "      curr2 = (model.Y[i] - C_down*model.X[i])\n",
        "      if curr < min_d:\n",
        "        min_d = curr\n",
        "      if curr2 < min_d:\n",
        "        min_d = curr2\n",
        "  return min_d\n",
        "\n",
        "def find_D_up():\n",
        "  max_d = (model.Y[1] - C_up*model.X[1])\n",
        "  for i in range(1, I+1):\n",
        "      curr = (model.Y[i] - C_up*model.X[i])\n",
        "      curr2 = (model.Y[i] - C_down*model.X[i])\n",
        "      if curr > max_d:\n",
        "        max_d = curr\n",
        "      if curr2 > max_d:\n",
        "        max_d = curr2\n",
        "  return max_d\n",
        "\n",
        "D_up = find_D_up()\n",
        "D_down = find_D_down()\n",
        "\n",
        "# print(C_up, C_down, D_up, D_down)"
      ]
    },
    {
      "cell_type": "markdown",
      "metadata": {
        "id": "UZA-Hb5D7vJP"
      },
      "source": [
        "## Decision variables"
      ]
    },
    {
      "cell_type": "code",
      "execution_count": null,
      "metadata": {
        "id": "oC_uvTT27xJv"
      },
      "outputs": [],
      "source": [
        "model.c = pyo.Var(bounds=(C_down,C_up))\n",
        "model.d = pyo.Var(bounds=(D_down,D_up))\n",
        "model.cesi = pyo.Var(model.Iset, domain = pyo.NonNegativeReals)"
      ]
    },
    {
      "cell_type": "markdown",
      "metadata": {
        "id": "5qaZH8ai9pDp"
      },
      "source": [
        "## Objective function"
      ]
    },
    {
      "cell_type": "code",
      "execution_count": null,
      "metadata": {
        "id": "yItnXjnJ9xQ3"
      },
      "outputs": [],
      "source": [
        "def rule_obj(model):\n",
        "    return sum(model.cesi[i] for i in model.Iset)\n",
        "model.obj=pyo.Objective(rule=rule_obj, sense=pyo.minimize)"
      ]
    },
    {
      "cell_type": "markdown",
      "metadata": {
        "id": "eHF0j9xp-M4D"
      },
      "source": [
        "## Constraints"
      ]
    },
    {
      "cell_type": "code",
      "execution_count": null,
      "metadata": {
        "id": "wUmCP5gY-Qls"
      },
      "outputs": [],
      "source": [
        "def rule_const1(model, i):\n",
        "    return model.Y[i] - (model.c * model.X[i] + model.d) <= model.cesi[i]\n",
        "model.const1=pyo.Constraint(model.Iset, rule=rule_const1)\n",
        "\n",
        "def rule_const2(model, i):\n",
        "    return  - model.Y[i] + (model.c * model.X[i] + model.d) <= model.cesi[i]\n",
        "model.const2=pyo.Constraint(model.Iset, rule=rule_const2)"
      ]
    },
    {
      "cell_type": "markdown",
      "metadata": {
        "id": "jtmchUun_LYb"
      },
      "source": [
        "## Solve model and results"
      ]
    },
    {
      "cell_type": "code",
      "execution_count": null,
      "metadata": {
        "colab": {
          "base_uri": "https://localhost:8080/"
        },
        "id": "XeTrojgr_O7P",
        "outputId": "24c46ba3-d5cc-4c80-86b9-a7b9bbdaca3a"
      },
      "outputs": [
        {
          "name": "stdout",
          "output_type": "stream",
          "text": [
            "\n",
            "Problem: \n",
            "- Name: \n",
            "  Lower bound: 86.82624975816253\n",
            "  Upper bound: 86.82624975816253\n",
            "  Number of objectives: 1\n",
            "  Number of constraints: 88\n",
            "  Number of variables: 46\n",
            "  Number of binary variables: 0\n",
            "  Number of integer variables: 0\n",
            "  Number of continuous variables: 46\n",
            "  Number of nonzeros: None\n",
            "  Sense: 1\n",
            "Solver: \n",
            "- Name: CPLEX 22.1.1.0\n",
            "  Status: ok\n",
            "  Wallclock time: 0.0009369850158691406\n",
            "  Termination condition: optimal\n",
            "Solution: \n",
            "- number of solutions: 0\n",
            "  number of solutions displayed: 0\n",
            "\n"
          ]
        }
      ],
      "source": [
        "solver=pyo.SolverFactory('cplex_direct')\n",
        "result = solver.solve(model)\n",
        "print(result)"
      ]
    },
    {
      "cell_type": "markdown",
      "metadata": {
        "id": "fNpXVpvFH1fu"
      },
      "source": [
        "## Draw plot"
      ]
    },
    {
      "cell_type": "code",
      "execution_count": null,
      "metadata": {
        "colab": {
          "base_uri": "https://localhost:8080/",
          "height": 430
        },
        "id": "rdF6_lVCAVjr",
        "outputId": "c1355529-f6a0-4811-bb8e-ed5940823d03"
      },
      "outputs": [
        {
          "data": {
            "image/png": "[encoded data removed]",
            "text/plain": [
              "<Figure size 640x480 with 1 Axes>"
            ]
          },
          "metadata": {},
          "output_type": "display_data"
        }
      ],
      "source": [
        "#plt.plot(xpoints, ypoints, 'o')\n",
        "\n",
        "# print(model.c.value)\n",
        "# print(model.d.value)\n",
        "x = np.linspace(0,500)\n",
        "\n",
        "fig,ax = plt.subplots()\n",
        "ax.plot(x,(model.c.value)*x+model.d.value)\n",
        "\n",
        "ax.set_xlim((0, 510))\n",
        "ax.set_ylim((0, 38))\n",
        "plt.scatter(xpoints, ypoints, facecolors='none', edgecolors='r')\n",
        "\n",
        "plt.show()"
      ]
    },
    {
      "cell_type": "markdown",
      "metadata": {
        "id": "s62JZ9nbCp6X"
      },
      "source": [
        "# Model 2"
      ]
    },
    {
      "cell_type": "code",
      "execution_count": null,
      "metadata": {
        "id": "n9SANzgICwEP"
      },
      "outputs": [],
      "source": [
        "model=pyo.ConcreteModel()"
      ]
    },
    {
      "cell_type": "markdown",
      "metadata": {
        "id": "Ah5lGiQfC57A"
      },
      "source": [
        "## index sets"
      ]
    },
    {
      "cell_type": "code",
      "execution_count": null,
      "metadata": {
        "id": "y-Wbvpo8CybS"
      },
      "outputs": [],
      "source": [
        "# B can be 2, 3 or 4\n",
        "B = 3\n",
        "model.Iset=pyo.Set(initialize=range(1,I+1))\n",
        "model.Bset=pyo.Set(initialize=range(1,B+1))"
      ]
    },
    {
      "cell_type": "markdown",
      "metadata": {
        "id": "HGNsJzhJC83t"
      },
      "source": [
        "## Params"
      ]
    },
    {
      "cell_type": "code",
      "execution_count": null,
      "metadata": {
        "id": "RLpAy6akC7pH"
      },
      "outputs": [],
      "source": [
        "def rule_X(model, i):\n",
        "    return X[i-1]\n",
        "model.X = pyo.Param(model.Iset, initialize=rule_X)\n",
        "\n",
        "def rule_Y(model, i):\n",
        "    return Y[i-1]\n",
        "model.Y = pyo.Param(model.Iset, initialize=rule_Y)\n",
        "\n",
        "def find_C_down():\n",
        "  min_c = (model.Y[2] - model.Y[1])/(model.X[2] - model.X[1])\n",
        "  for i in range(1, I+1):\n",
        "    for j in range(1, I+1):\n",
        "      if i > j:\n",
        "        curr = (model.Y[i] - model.Y[j])/(model.X[i] - model.X[j])\n",
        "        if curr < min_c:\n",
        "          min_c = curr\n",
        "  return min_c\n",
        "\n",
        "def find_C_up():\n",
        "  max_c = (model.Y[2] - model.Y[1])/(model.X[2] - model.X[1])\n",
        "  for i in range(1, I+1):\n",
        "    for j in range(1, I+1):\n",
        "      if i > j:\n",
        "        curr = (model.Y[i] - model.Y[j])/(model.X[i] - model.X[j])\n",
        "        if curr > max_c:\n",
        "          max_c = curr\n",
        "  return max_c\n",
        "\n",
        "C_up = find_C_up()\n",
        "C_down = find_C_down()\n",
        "\n",
        "def find_D_down():\n",
        "  min_d = (model.Y[1] - C_up*model.X[1])\n",
        "  for i in range(1, I+1):\n",
        "      curr = (model.Y[i] - C_up*model.X[i])\n",
        "      curr2 = (model.Y[i] - C_down*model.X[i])\n",
        "      if curr < min_d:\n",
        "        min_d = curr\n",
        "      if curr2 < min_d:\n",
        "        min_d = curr2\n",
        "  return min_d\n",
        "\n",
        "def find_D_up():\n",
        "  max_d = (model.Y[1] - C_up*model.X[1])\n",
        "  for i in range(1, I+1):\n",
        "      curr = (model.Y[i] - C_up*model.X[i])\n",
        "      curr2 = (model.Y[i] - C_down*model.X[i])\n",
        "      if curr > max_d:\n",
        "        max_d = curr\n",
        "      if curr2 > max_d:\n",
        "        max_d = curr2\n",
        "  return max_d\n",
        "\n",
        "D_up = find_D_up()\n",
        "D_down = find_D_down()\n",
        "\n",
        "def rule_M1(model, i):\n",
        "  return max(abs(model.Y[i]-C_up*model.X[i] - D_up),\n",
        "             abs(model.Y[i] - C_up*model.X[i] - D_down),\n",
        "             abs(model.Y[i] - C_down*model.X[i] - D_up),\n",
        "             abs(model.Y[i] - C_down*model.X[i] - D_down))\n",
        "model.M1 = pyo.Param(model.Iset, initialize=rule_M1)"
      ]
    },
    {
      "cell_type": "code",
      "execution_count": null,
      "metadata": {
        "id": "aYGW5xkk2NGC"
      },
      "outputs": [],
      "source": [
        "# for i in range(1, I+1):\n",
        "#   print(model.M1[i])"
      ]
    },
    {
      "cell_type": "markdown",
      "metadata": {
        "id": "BGs_qSdHCyG3"
      },
      "source": [
        "## Decisions variables"
      ]
    },
    {
      "cell_type": "code",
      "execution_count": null,
      "metadata": {
        "id": "wG7Uqty-DG-E"
      },
      "outputs": [],
      "source": [
        "model.c = pyo.Var(model.Bset, bounds=(C_down,C_up))\n",
        "model.d = pyo.Var(model.Bset, bounds=(D_down,D_up))\n",
        "model.cesi = pyo.Var(model.Iset, domain = pyo.NonNegativeReals)\n",
        "model.delta = pyo.Var(model.Iset, model.Bset, domain=pyo.Binary)"
      ]
    },
    {
      "cell_type": "markdown",
      "metadata": {
        "id": "dEXzcdBRDHnA"
      },
      "source": [
        "## Objective function"
      ]
    },
    {
      "cell_type": "code",
      "execution_count": null,
      "metadata": {
        "id": "cJdUnI5-DKNr"
      },
      "outputs": [],
      "source": [
        "def rule_obj(model):\n",
        "    return sum(model.cesi[i] for i in model.Iset)\n",
        "model.obj=pyo.Objective(rule=rule_obj, sense=pyo.minimize)"
      ]
    },
    {
      "cell_type": "markdown",
      "metadata": {
        "id": "ZUL_RAeWDK2H"
      },
      "source": [
        "## Constraint"
      ]
    },
    {
      "cell_type": "code",
      "execution_count": null,
      "metadata": {
        "id": "2GrtJfFoEqnQ"
      },
      "outputs": [],
      "source": [
        "def rule_const1(model, i, b):\n",
        "    return model.Y[i] - (model.c[b] * model.X[i] + model.d[b]) <= model.cesi[i] + model.M1[i] * (1-model.delta[i,b])\n",
        "model.const1=pyo.Constraint(model.Iset, model.Bset, rule=rule_const1)\n",
        "\n",
        "def rule_const2(model, i, b):\n",
        "    return  - model.Y[i] + (model.c[b] * model.X[i] + model.d[b]) <= model.cesi[i] + model.M1[i] * (1-model.delta[i,b])\n",
        "model.const2=pyo.Constraint(model.Iset, model.Bset, rule=rule_const2)\n",
        "\n",
        "def rule_const3(model, i):\n",
        "  return sum(model.delta[i, b] for b in model.Bset) == 1\n",
        "model.const3=pyo.Constraint(model.Iset, rule=rule_const3)"
      ]
    },
    {
      "cell_type": "markdown",
      "metadata": {
        "id": "lKjRHrNOEwca"
      },
      "source": [
        "## Solve model and results"
      ]
    },
    {
      "cell_type": "code",
      "execution_count": null,
      "metadata": {
        "colab": {
          "base_uri": "https://localhost:8080/"
        },
        "id": "LJmhgx5mFq4c",
        "outputId": "c3d69402-958f-491f-c24e-f1271a962339"
      },
      "outputs": [
        {
          "name": "stdout",
          "output_type": "stream",
          "text": [
            "\n",
            "Problem: \n",
            "- Name: \n",
            "  Lower bound: 10.711680456556358\n",
            "  Upper bound: 10.71271383853654\n",
            "  Number of objectives: 1\n",
            "  Number of constraints: 308\n",
            "  Number of variables: 182\n",
            "  Number of binary variables: 132\n",
            "  Number of integer variables: 0\n",
            "  Number of continuous variables: 50\n",
            "  Number of nonzeros: None\n",
            "  Sense: 1\n",
            "Solver: \n",
            "- Name: CPLEX 22.1.1.0\n",
            "  Status: ok\n",
            "  Wallclock time: 41.47124361991882\n",
            "  Termination condition: optimal\n",
            "Solution: \n",
            "- number of solutions: 0\n",
            "  number of solutions displayed: 0\n",
            "\n"
          ]
        }
      ],
      "source": [
        "solver=pyo.SolverFactory('cplex_direct')\n",
        "result = solver.solve(model)\n",
        "print(result)"
      ]
    },
    {
      "cell_type": "markdown",
      "metadata": {
        "id": "mYziQCeyJV_L"
      },
      "source": [
        "## Draw plot"
      ]
    },
    {
      "cell_type": "code",
      "execution_count": null,
      "metadata": {
        "colab": {
          "base_uri": "https://localhost:8080/",
          "height": 430
        },
        "id": "CEaDrhGpJYM1",
        "outputId": "b429c491-9ea8-4820-8bc2-ecbcbed75d5c"
      },
      "outputs": [
        {
          "data": {
            "image/png": "[encoded data removed]",
            "text/plain": [
              "<Figure size 640x480 with 1 Axes>"
            ]
          },
          "metadata": {},
          "output_type": "display_data"
        }
      ],
      "source": [
        "#plt.plot(xpoints, ypoints, 'o')\n",
        "\n",
        "\n",
        "x1 = np.linspace(30,500)\n",
        "x2 = np.linspace(30,500)\n",
        "x3 = np.linspace(30,500)\n",
        "\n",
        "fig,ax = plt.subplots()\n",
        "ax.plot(x1,(model.c[1].value)*x1+model.d[1].value)\n",
        "ax.plot(x2,(model.c[2].value)*x2+model.d[2].value)\n",
        "ax.plot(x3,(model.c[3].value)*x3+model.d[3].value)\n",
        "\n",
        "\n",
        "\n",
        "ax.set_xlim((0, 510))\n",
        "ax.set_ylim((0, 38))\n",
        "\n",
        "color = ['m', 'c', 'r', 'k']\n",
        "for b in model.Bset:\n",
        "  x = []\n",
        "  y = []\n",
        "  for i in model.Iset:\n",
        "    if model.delta[i,b].value == 1:\n",
        "      x.append(X[i-1])\n",
        "      y.append(Y[i-1])\n",
        "  plt.scatter(np.asarray(x), np.asarray(y), facecolors='none', edgecolors=color[b-1])\n",
        "\n",
        "plt.show()"
      ]
    },
    {
      "cell_type": "markdown",
      "metadata": {
        "id": "asNNf81vHZqz"
      },
      "source": [
        "# Model 3"
      ]
    },
    {
      "cell_type": "code",
      "execution_count": null,
      "metadata": {
        "id": "2iNq92c6HeZh"
      },
      "outputs": [],
      "source": [
        "model=pyo.ConcreteModel()"
      ]
    },
    {
      "cell_type": "markdown",
      "metadata": {
        "id": "F-HANEEdHeyH"
      },
      "source": [
        "## index sets"
      ]
    },
    {
      "cell_type": "code",
      "execution_count": null,
      "metadata": {
        "id": "HEW_iovDHl_0"
      },
      "outputs": [],
      "source": [
        "# B can be 2, 3 or 4\n",
        "B = 3\n",
        "model.Iset=pyo.Set(initialize=range(1,I+1))\n",
        "model.Bset=pyo.Set(initialize=range(1,B+1))"
      ]
    },
    {
      "cell_type": "markdown",
      "metadata": {
        "id": "DwZeKS0nHiPO"
      },
      "source": [
        "## Params"
      ]
    },
    {
      "cell_type": "code",
      "execution_count": null,
      "metadata": {
        "id": "feUwr7CIHhnM"
      },
      "outputs": [],
      "source": [
        "def rule_X(model, i):\n",
        "    return X[i-1]\n",
        "model.X = pyo.Param(model.Iset, initialize=rule_X)\n",
        "\n",
        "def rule_Y(model, i):\n",
        "    return Y[i-1]\n",
        "model.Y = pyo.Param(model.Iset, initialize=rule_Y)\n",
        "\n",
        "def find_C_down():\n",
        "  min_c = (model.Y[2] - model.Y[1])/(model.X[2] - model.X[1])\n",
        "  for i in range(1, I+1):\n",
        "    for j in range(1, I+1):\n",
        "      if i > j:\n",
        "        curr = (model.Y[i] - model.Y[j])/(model.X[i] - model.X[j])\n",
        "        if curr < min_c:\n",
        "          min_c = curr\n",
        "  return min_c\n",
        "\n",
        "def find_C_up():\n",
        "  max_c = (model.Y[2] - model.Y[1])/(model.X[2] - model.X[1])\n",
        "  for i in range(1, I+1):\n",
        "    for j in range(1, I+1):\n",
        "      if i > j:\n",
        "        curr = (model.Y[i] - model.Y[j])/(model.X[i] - model.X[j])\n",
        "        if curr > max_c:\n",
        "          max_c = curr\n",
        "  return max_c\n",
        "\n",
        "C_up = find_C_up()\n",
        "C_down = find_C_down()\n",
        "\n",
        "def find_D_down():\n",
        "  min_d = (model.Y[1] - C_up*model.X[1])\n",
        "  for i in range(1, I+1):\n",
        "      curr = (model.Y[i] - C_up*model.X[i])\n",
        "      curr2 = (model.Y[i] - C_down*model.X[i])\n",
        "      if curr < min_d:\n",
        "        min_d = curr\n",
        "      if curr2 < min_d:\n",
        "        min_d = curr2\n",
        "  return min_d\n",
        "\n",
        "def find_D_up():\n",
        "  max_d = (model.Y[1] - C_up*model.X[1])\n",
        "  for i in range(1, I+1):\n",
        "      curr = (model.Y[i] - C_up*model.X[i])\n",
        "      curr2 = (model.Y[i] - C_down*model.X[i])\n",
        "      if curr > max_d:\n",
        "        max_d = curr\n",
        "      if curr2 > max_d:\n",
        "        max_d = curr2\n",
        "  return max_d\n",
        "\n",
        "D_up = find_D_up()\n",
        "D_down = find_D_down()\n",
        "\n",
        "def rule_M1(model, i):\n",
        "  return max(abs(model.Y[i]-C_up*model.X[i] - D_up),\n",
        "             abs(model.Y[i] - C_up*model.X[i] - D_down),\n",
        "             abs(model.Y[i] - C_down*model.X[i] - D_up),\n",
        "             abs(model.Y[i] - C_down*model.X[i] - D_down))\n",
        "model.M1 = pyo.Param(model.Iset, initialize=rule_M1)"
      ]
    },
    {
      "cell_type": "markdown",
      "metadata": {
        "id": "NCbfLWumHnv7"
      },
      "source": [
        "## Decisions variables"
      ]
    },
    {
      "cell_type": "code",
      "execution_count": null,
      "metadata": {
        "id": "YXQHOov2Ljp9"
      },
      "outputs": [],
      "source": [
        "model.c = pyo.Var(model.Bset, bounds=(C_down,C_up))\n",
        "model.d = pyo.Var(model.Bset, bounds=(D_down,D_up))\n",
        "model.cesi = pyo.Var(domain = pyo.NonNegativeReals)\n",
        "model.delta = pyo.Var(model.Iset, model.Bset, domain=pyo.Binary)"
      ]
    },
    {
      "cell_type": "markdown",
      "metadata": {
        "id": "GPSsxLE_HnmI"
      },
      "source": [
        "## Objective function"
      ]
    },
    {
      "cell_type": "code",
      "execution_count": null,
      "metadata": {
        "id": "xRYh8DouL7w3"
      },
      "outputs": [],
      "source": [
        "def rule_obj(model):\n",
        "    return model.cesi\n",
        "model.obj=pyo.Objective(rule=rule_obj, sense=pyo.minimize)"
      ]
    },
    {
      "cell_type": "markdown",
      "metadata": {
        "id": "NyPWa148Hnbl"
      },
      "source": [
        "## Constraint"
      ]
    },
    {
      "cell_type": "code",
      "execution_count": null,
      "metadata": {
        "id": "kZEaO1O0MJJN"
      },
      "outputs": [],
      "source": [
        "def rule_const1(model, i, b):\n",
        "    return model.Y[i] - (model.c[b] * model.X[i] + model.d[b]) <= model.cesi + model.M1[i]* (1-model.delta[i,b])\n",
        "model.const1=pyo.Constraint(model.Iset, model.Bset, rule=rule_const1)\n",
        "\n",
        "def rule_const2(model, i, b):\n",
        "    return  - model.Y[i] + (model.c[b] * model.X[i] + model.d[b]) <= model.cesi + model.M1[i]* (1-model.delta[i,b])\n",
        "model.const2=pyo.Constraint(model.Iset, model.Bset, rule=rule_const2)\n",
        "\n",
        "def rule_const3(model, i):\n",
        "  return sum(model.delta[i, b] for b in model.Bset) == 1\n",
        "model.const3=pyo.Constraint(model.Iset, rule=rule_const3)"
      ]
    },
    {
      "cell_type": "markdown",
      "metadata": {
        "id": "lDDTvQ_yHmnq"
      },
      "source": [
        "## Solve model and results"
      ]
    },
    {
      "cell_type": "code",
      "execution_count": null,
      "metadata": {
        "colab": {
          "base_uri": "https://localhost:8080/"
        },
        "id": "JevyUG7FMXkb",
        "outputId": "b2bd0103-d6b9-4c9c-b45a-ba9233ddd58c"
      },
      "outputs": [
        {
          "name": "stdout",
          "output_type": "stream",
          "text": [
            "\n",
            "Problem: \n",
            "- Name: \n",
            "  Lower bound: 0.7772850313373766\n",
            "  Upper bound: 0.7772850313373766\n",
            "  Number of objectives: 1\n",
            "  Number of constraints: 308\n",
            "  Number of variables: 139\n",
            "  Number of binary variables: 132\n",
            "  Number of integer variables: 0\n",
            "  Number of continuous variables: 7\n",
            "  Number of nonzeros: None\n",
            "  Sense: 1\n",
            "Solver: \n",
            "- Name: CPLEX 22.1.1.0\n",
            "  Status: ok\n",
            "  Wallclock time: 0.19757580757141113\n",
            "  Termination condition: optimal\n",
            "Solution: \n",
            "- number of solutions: 0\n",
            "  number of solutions displayed: 0\n",
            "\n"
          ]
        }
      ],
      "source": [
        "solver=pyo.SolverFactory('cplex_direct')\n",
        "result = solver.solve(model)\n",
        "print(result)"
      ]
    },
    {
      "cell_type": "markdown",
      "metadata": {
        "id": "OnpHC3Gb5oS-"
      },
      "source": [
        "## Draw plot"
      ]
    },
    {
      "cell_type": "code",
      "execution_count": null,
      "metadata": {
        "colab": {
          "base_uri": "https://localhost:8080/",
          "height": 430
        },
        "id": "VP3Wa5iF5qXt",
        "outputId": "af356ece-2bc6-4ee1-fbe0-c76b3577be2d"
      },
      "outputs": [
        {
          "data": {
            "image/png": "[encoded data removed]",
            "text/plain": [
              "<Figure size 640x480 with 1 Axes>"
            ]
          },
          "metadata": {},
          "output_type": "display_data"
        }
      ],
      "source": [
        "#plt.plot(xpoints, ypoints, 'o')\n",
        "\n",
        "\n",
        "x1 = np.linspace(30,500)\n",
        "x2 = np.linspace(30,500)\n",
        "x3 = np.linspace(30,500)\n",
        "\n",
        "fig,ax = plt.subplots()\n",
        "ax.plot(x1,(model.c[1].value)*x1+model.d[1].value)\n",
        "ax.plot(x2,(model.c[2].value)*x2+model.d[2].value)\n",
        "ax.plot(x3,(model.c[3].value)*x3+model.d[3].value)\n",
        "\n",
        "\n",
        "\n",
        "ax.set_xlim((0, 510))\n",
        "ax.set_ylim((0, 38))\n",
        "\n",
        "color = ['r', 'm', 'c', 'k']\n",
        "for b in model.Bset:\n",
        "  x = []\n",
        "  y = []\n",
        "  for i in model.Iset:\n",
        "    if model.delta[i,b].value == 1:\n",
        "      x.append(X[i-1])\n",
        "      y.append(Y[i-1])\n",
        "  plt.scatter(np.asarray(x), np.asarray(y), facecolors='none', edgecolors=color[b-1])\n",
        "\n",
        "plt.show()"
      ]
    },
    {
      "cell_type": "markdown",
      "metadata": {
        "id": "1sQWYMLJMjeW"
      },
      "source": [
        "# Model 4"
      ]
    },
    {
      "cell_type": "code",
      "execution_count": null,
      "metadata": {
        "id": "vYubD1TdM8iC"
      },
      "outputs": [],
      "source": [
        "model=pyo.ConcreteModel()"
      ]
    },
    {
      "cell_type": "markdown",
      "metadata": {
        "id": "VWzqssAKMmrd"
      },
      "source": [
        "## index sets"
      ]
    },
    {
      "cell_type": "code",
      "execution_count": null,
      "metadata": {
        "id": "VD3CkRd-NAOW"
      },
      "outputs": [],
      "source": [
        "# B can be 2, 3 or 4\n",
        "B = 3\n",
        "model.Iset=pyo.Set(initialize=range(1,I+1))\n",
        "model.Bset=pyo.Set(initialize=range(1,B+1))"
      ]
    },
    {
      "cell_type": "markdown",
      "metadata": {
        "id": "5lwteNS9Mo6P"
      },
      "source": [
        "## Params"
      ]
    },
    {
      "cell_type": "code",
      "execution_count": null,
      "metadata": {
        "id": "WpPL-xWxNDe_"
      },
      "outputs": [],
      "source": [
        "def rule_X(model, i):\n",
        "    return X[i-1]\n",
        "model.X = pyo.Param(model.Iset, initialize=rule_X)\n",
        "\n",
        "def rule_Y(model, i):\n",
        "    return Y[i-1]\n",
        "model.Y = pyo.Param(model.Iset, initialize=rule_Y)\n",
        "\n",
        "def find_C_down():\n",
        "  min_c = (model.Y[2] - model.Y[1])/(model.X[2] - model.X[1])\n",
        "  for i in range(1, I+1):\n",
        "    for j in range(1, I+1):\n",
        "      if i > j:\n",
        "        curr = (model.Y[i] - model.Y[j])/(model.X[i] - model.X[j])\n",
        "        if curr < min_c:\n",
        "          min_c = curr\n",
        "  return min_c\n",
        "\n",
        "def find_C_up():\n",
        "  max_c = (model.Y[2] - model.Y[1])/(model.X[2] - model.X[1])\n",
        "  for i in range(1, I+1):\n",
        "    for j in range(1, I+1):\n",
        "      if i > j:\n",
        "        curr = (model.Y[i] - model.Y[j])/(model.X[i] - model.X[j])\n",
        "        if curr > max_c:\n",
        "          max_c = curr\n",
        "  return max_c\n",
        "\n",
        "C_up = find_C_up()\n",
        "C_down = find_C_down()\n",
        "\n",
        "def find_D_down():\n",
        "  min_d = (model.Y[1] - C_up*model.X[1])\n",
        "  for i in range(1, I+1):\n",
        "      curr = (model.Y[i] - C_up*model.X[i])\n",
        "      curr2 = (model.Y[i] - C_down*model.X[i])\n",
        "      if curr < min_d:\n",
        "        min_d = curr\n",
        "      if curr2 < min_d:\n",
        "        min_d = curr2\n",
        "  return min_d\n",
        "\n",
        "def find_D_up():\n",
        "  max_d = (model.Y[1] - C_up*model.X[1])\n",
        "  for i in range(1, I+1):\n",
        "      curr = (model.Y[i] - C_up*model.X[i])\n",
        "      curr2 = (model.Y[i] - C_down*model.X[i])\n",
        "      if curr > max_d:\n",
        "        max_d = curr\n",
        "      if curr2 > max_d:\n",
        "        max_d = curr2\n",
        "  return max_d\n",
        "\n",
        "D_up = find_D_up()\n",
        "D_down = find_D_down()\n",
        "\n",
        "def rule_M1(model, i):\n",
        "  return max(abs(model.Y[i]-C_up*model.X[i] - D_up),\n",
        "             abs(model.Y[i] - C_up*model.X[i] - D_down),\n",
        "             abs(model.Y[i] - C_down*model.X[i] - D_up),\n",
        "             abs(model.Y[i] - C_down*model.X[i] - D_down))\n",
        "model.M1 = pyo.Param(model.Iset, initialize=rule_M1)"
      ]
    },
    {
      "cell_type": "markdown",
      "metadata": {
        "id": "EwzWtymRMqu6"
      },
      "source": [
        "## Decisions variables"
      ]
    },
    {
      "cell_type": "code",
      "execution_count": null,
      "metadata": {
        "id": "Xa-I8DnFNGPo"
      },
      "outputs": [],
      "source": [
        "model.c = pyo.Var(model.Bset, bounds=(C_down,C_up))\n",
        "model.d = pyo.Var(model.Bset, bounds=(D_down,D_up))\n",
        "model.cesi = pyo.Var(model.Bset, domain = pyo.NonNegativeReals)\n",
        "model.delta = pyo.Var(model.Iset, model.Bset, domain=pyo.Binary)"
      ]
    },
    {
      "cell_type": "markdown",
      "metadata": {
        "id": "1jhUFeNSMwdK"
      },
      "source": [
        "## Objective function"
      ]
    },
    {
      "cell_type": "code",
      "execution_count": null,
      "metadata": {
        "id": "Bn_mz0JUNL_o"
      },
      "outputs": [],
      "source": [
        "def rule_obj(model):\n",
        "    return sum(model.cesi[b] for b in model.Bset)\n",
        "model.obj=pyo.Objective(rule=rule_obj, sense=pyo.minimize)"
      ]
    },
    {
      "cell_type": "markdown",
      "metadata": {
        "id": "y5nHuzKxM16n"
      },
      "source": [
        "## Constraint"
      ]
    },
    {
      "cell_type": "code",
      "execution_count": null,
      "metadata": {
        "id": "x-EJt_xANjPV"
      },
      "outputs": [],
      "source": [
        "def rule_const1(model, i, b):\n",
        "    return model.Y[i] - (model.c[b] * model.X[i] + model.d[b]) <= model.cesi[b] + model.M1[i] * (1-model.delta[i,b])\n",
        "model.const1=pyo.Constraint(model.Iset, model.Bset, rule=rule_const1)\n",
        "\n",
        "def rule_const2(model, i, b):\n",
        "    return  - model.Y[i] + (model.c[b] * model.X[i] + model.d[b]) <= model.cesi[b] + model.M1[i] * (1-model.delta[i,b])\n",
        "model.const2=pyo.Constraint(model.Iset, model.Bset, rule=rule_const2)\n",
        "\n",
        "def rule_const3(model, i):\n",
        "  return sum(model.delta[i, b] for b in model.Bset) == 1\n",
        "model.const3=pyo.Constraint(model.Iset, rule=rule_const3)"
      ]
    },
    {
      "cell_type": "markdown",
      "metadata": {
        "id": "fKaC8sIxM33h"
      },
      "source": [
        "## Solve model and results"
      ]
    },
    {
      "cell_type": "code",
      "execution_count": null,
      "metadata": {
        "colab": {
          "base_uri": "https://localhost:8080/"
        },
        "id": "Cz1GKwayNuU-",
        "outputId": "7cdbf3f4-5003-420f-8e5f-8f270c698c05"
      },
      "outputs": [
        {
          "name": "stdout",
          "output_type": "stream",
          "text": [
            "\n",
            "Problem: \n",
            "- Name: \n",
            "  Lower bound: 1.5587862126170475\n",
            "  Upper bound: 1.5587862126170475\n",
            "  Number of objectives: 1\n",
            "  Number of constraints: 308\n",
            "  Number of variables: 141\n",
            "  Number of binary variables: 132\n",
            "  Number of integer variables: 0\n",
            "  Number of continuous variables: 9\n",
            "  Number of nonzeros: None\n",
            "  Sense: 1\n",
            "Solver: \n",
            "- Name: CPLEX 22.1.1.0\n",
            "  Status: ok\n",
            "  Wallclock time: 1.6717135906219482\n",
            "  Termination condition: optimal\n",
            "Solution: \n",
            "- number of solutions: 0\n",
            "  number of solutions displayed: 0\n",
            "\n"
          ]
        }
      ],
      "source": [
        "solver=pyo.SolverFactory('cplex_direct')\n",
        "result = solver.solve(model)\n",
        "print(result)"
      ]
    },
    {
      "cell_type": "markdown",
      "metadata": {
        "id": "AGamklye7ODa"
      },
      "source": [
        "## Draw plot"
      ]
    },
    {
      "cell_type": "code",
      "execution_count": null,
      "metadata": {
        "colab": {
          "base_uri": "https://localhost:8080/",
          "height": 430
        },
        "id": "8fL3oT5A7Np9",
        "outputId": "98ee8183-f5d5-4a57-ec0f-d95ea89260b7"
      },
      "outputs": [
        {
          "data": {
            "image/png": "[encoded data removed]",
            "text/plain": [
              "<Figure size 640x480 with 1 Axes>"
            ]
          },
          "metadata": {},
          "output_type": "display_data"
        }
      ],
      "source": [
        "#plt.plot(xpoints, ypoints, 'o')\n",
        "\n",
        "\n",
        "x1 = np.linspace(30,500)\n",
        "x2 = np.linspace(30,500)\n",
        "x3 = np.linspace(30,500)\n",
        "\n",
        "fig,ax = plt.subplots()\n",
        "ax.plot(x1,(model.c[1].value)*x1+model.d[1].value)\n",
        "ax.plot(x2,(model.c[2].value)*x2+model.d[2].value)\n",
        "ax.plot(x3,(model.c[3].value)*x3+model.d[3].value)\n",
        "\n",
        "\n",
        "\n",
        "ax.set_xlim((0, 510))\n",
        "ax.set_ylim((0, 38))\n",
        "\n",
        "color = ['r', 'm', 'c', 'k']\n",
        "for b in model.Bset:\n",
        "  x = []\n",
        "  y = []\n",
        "  for i in model.Iset:\n",
        "    if model.delta[i,b].value == 1:\n",
        "      x.append(X[i-1])\n",
        "      y.append(Y[i-1])\n",
        "  plt.scatter(np.asarray(x), np.asarray(y), facecolors='none', edgecolors=color[b-1])\n",
        "\n",
        "plt.show()"
      ]
    },
    {
      "cell_type": "markdown",
      "metadata": {
        "id": "o2WEptEGdrRj"
      },
      "source": [
        "# Model 5"
      ]
    },
    {
      "cell_type": "code",
      "execution_count": null,
      "metadata": {
        "id": "jxlAulPseSiq"
      },
      "outputs": [],
      "source": [
        "model=pyo.ConcreteModel()"
      ]
    },
    {
      "cell_type": "markdown",
      "metadata": {
        "id": "ej3FeRzWdxE9"
      },
      "source": [
        "## index sets"
      ]
    },
    {
      "cell_type": "code",
      "execution_count": null,
      "metadata": {
        "id": "NGaqRC8KehoF"
      },
      "outputs": [],
      "source": [
        "# B can be 2, 3 or 4\n",
        "B = 3\n",
        "model.Iset=pyo.Set(initialize=range(1,I+1))\n",
        "model.Bset=pyo.Set(initialize=range(1,B+1))"
      ]
    },
    {
      "cell_type": "markdown",
      "metadata": {
        "id": "blDE--EYdzNI"
      },
      "source": [
        "## Params"
      ]
    },
    {
      "cell_type": "code",
      "execution_count": null,
      "metadata": {
        "id": "fRL4lXWnelA2"
      },
      "outputs": [],
      "source": [
        "def rule_X(model, i):\n",
        "    return X[i-1]\n",
        "model.X = pyo.Param(model.Iset, initialize=rule_X)\n",
        "\n",
        "def rule_Y(model, i):\n",
        "    return Y[i-1]\n",
        "model.Y = pyo.Param(model.Iset, initialize=rule_Y)\n",
        "\n",
        "def find_C_down():\n",
        "  min_c = (model.Y[2] - model.Y[1])/(model.X[2] - model.X[1])\n",
        "  for i in range(1, I+1):\n",
        "    for j in range(1, I+1):\n",
        "      if i > j:\n",
        "        curr = (model.Y[i] - model.Y[j])/(model.X[i] - model.X[j])\n",
        "        if curr < min_c:\n",
        "          min_c = curr\n",
        "  return min_c\n",
        "\n",
        "def find_C_up():\n",
        "  max_c = (model.Y[2] - model.Y[1])/(model.X[2] - model.X[1])\n",
        "  for i in range(1, I+1):\n",
        "    for j in range(1, I+1):\n",
        "      if i > j:\n",
        "        curr = (model.Y[i] - model.Y[j])/(model.X[i] - model.X[j])\n",
        "        if curr > max_c:\n",
        "          max_c = curr\n",
        "  return max_c\n",
        "\n",
        "C_up = find_C_up()\n",
        "C_down = find_C_down()\n",
        "\n",
        "def find_D_down():\n",
        "  min_d = (model.Y[1] - C_up*model.X[1])\n",
        "  for i in range(1, I+1):\n",
        "      curr = (model.Y[i] - C_up*model.X[i])\n",
        "      curr2 = (model.Y[i] - C_down*model.X[i])\n",
        "      if curr < min_d:\n",
        "        min_d = curr\n",
        "      if curr2 < min_d:\n",
        "        min_d = curr2\n",
        "  return min_d\n",
        "\n",
        "def find_D_up():\n",
        "  max_d = (model.Y[1] - C_up*model.X[1])\n",
        "  for i in range(1, I+1):\n",
        "      curr = (model.Y[i] - C_up*model.X[i])\n",
        "      curr2 = (model.Y[i] - C_down*model.X[i])\n",
        "      if curr > max_d:\n",
        "        max_d = curr\n",
        "      if curr2 > max_d:\n",
        "        max_d = curr2\n",
        "  return max_d\n",
        "\n",
        "D_up = find_D_up()\n",
        "D_down = find_D_down()\n",
        "\n",
        "def rule_M1(model, i):\n",
        "  return max(abs(model.Y[i]-C_up*model.X[i] - D_up),\n",
        "             abs(model.Y[i] - C_up*model.X[i] - D_down),\n",
        "             abs(model.Y[i] - C_down*model.X[i] - D_up),\n",
        "             abs(model.Y[i] - C_down*model.X[i] - D_down))\n",
        "model.M1 = pyo.Param(model.Iset, initialize=rule_M1)"
      ]
    },
    {
      "cell_type": "markdown",
      "metadata": {
        "id": "Nn8mP_pVd04J"
      },
      "source": [
        "## Decisions variables"
      ]
    },
    {
      "cell_type": "code",
      "execution_count": null,
      "metadata": {
        "id": "ZZlmhdLsenaG"
      },
      "outputs": [],
      "source": [
        "model.c = pyo.Var(model.Bset, bounds=(C_down,C_up))\n",
        "model.d = pyo.Var(model.Bset, bounds=(D_down,D_up))\n",
        "model.cesi = pyo.Var(model.Iset, domain = pyo.NonNegativeReals)\n",
        "model.delta = pyo.Var(model.Iset, model.Bset, domain=pyo.Binary)"
      ]
    },
    {
      "cell_type": "markdown",
      "metadata": {
        "id": "r7GnfE-Dd4ln"
      },
      "source": [
        "## Objective function"
      ]
    },
    {
      "cell_type": "code",
      "execution_count": null,
      "metadata": {
        "id": "G83FjKTret8C"
      },
      "outputs": [],
      "source": [
        "def rule_obj(model):\n",
        "    return sum(model.cesi[i] for i in model.Iset)\n",
        "model.obj=pyo.Objective(rule=rule_obj, sense=pyo.minimize)"
      ]
    },
    {
      "cell_type": "markdown",
      "metadata": {
        "id": "9iWc1P7Qd_K1"
      },
      "source": [
        "## Constraint"
      ]
    },
    {
      "cell_type": "code",
      "execution_count": null,
      "metadata": {
        "id": "QWfBMSWbfCuf"
      },
      "outputs": [],
      "source": [
        "def rule_const1(model, i, b):\n",
        "    return model.Y[i] - (model.c[b] * model.X[i] + model.d[b]) <= model.cesi[i] +model.M1[i] * (1-model.delta[i,b])\n",
        "model.const1=pyo.Constraint(model.Iset, model.Bset, rule=rule_const1)\n",
        "\n",
        "def rule_const2(model, i, b):\n",
        "    return  - model.Y[i] + (model.c[b] * model.X[i] + model.d[b]) <= model.cesi[i] + model.M1[i] * (1-model.delta[i,b])\n",
        "model.const2=pyo.Constraint(model.Iset, model.Bset, rule=rule_const2)\n",
        "\n",
        "def rule_const3(model, i):\n",
        "  return sum(model.delta[i, b] for b in model.Bset) == 1\n",
        "model.const3=pyo.Constraint(model.Iset, rule=rule_const3)\n",
        "\n",
        "def rule_const4(model, i, b):\n",
        "  if i == I:\n",
        "    return pyo.Constraint.Skip\n",
        "  elif b == B:\n",
        "    return pyo.Constraint.Skip\n",
        "  else:\n",
        "    return model.delta[i+1, b+1] <= model.delta[i, b] + model.delta[i, b+1]\n",
        "model.const4=pyo.Constraint(model.Iset, model.Bset,  rule=rule_const4)\n",
        "\n",
        "def rule_const5(model, i):\n",
        "  if i == I:\n",
        "    return pyo.Constraint.Skip\n",
        "  else:\n",
        "    return model.delta[i+1, 1] <= model.delta[i, 1]\n",
        "model.const5=pyo.Constraint(model.Iset, rule=rule_const5)\n",
        "\n",
        "def rule_const6(model, i):\n",
        "  if i == I:\n",
        "    return pyo.Constraint.Skip\n",
        "  else:\n",
        "    return model.delta[i, B] <= model.delta[i+1, B]\n",
        "model.const6=pyo.Constraint(model.Iset, rule=rule_const6)"
      ]
    },
    {
      "cell_type": "markdown",
      "metadata": {
        "id": "XurKcqpleB9i"
      },
      "source": [
        "## Solve model and results"
      ]
    },
    {
      "cell_type": "code",
      "execution_count": null,
      "metadata": {
        "colab": {
          "base_uri": "https://localhost:8080/"
        },
        "id": "_gCMl59Vh9be",
        "outputId": "f6fe9db9-35c1-45df-8573-670a94a3b764"
      },
      "outputs": [
        {
          "name": "stdout",
          "output_type": "stream",
          "text": [
            "\n",
            "Problem: \n",
            "- Name: \n",
            "  Lower bound: 11.12923846029217\n",
            "  Upper bound: 11.12923846029217\n",
            "  Number of objectives: 1\n",
            "  Number of constraints: 480\n",
            "  Number of variables: 182\n",
            "  Number of binary variables: 132\n",
            "  Number of integer variables: 0\n",
            "  Number of continuous variables: 50\n",
            "  Number of nonzeros: None\n",
            "  Sense: 1\n",
            "Solver: \n",
            "- Name: CPLEX 22.1.1.0\n",
            "  Status: ok\n",
            "  Wallclock time: 0.2534618377685547\n",
            "  Termination condition: optimal\n",
            "Solution: \n",
            "- number of solutions: 0\n",
            "  number of solutions displayed: 0\n",
            "\n"
          ]
        }
      ],
      "source": [
        "solver=pyo.SolverFactory('cplex_direct')\n",
        "result = solver.solve(model)\n",
        "print(result)"
      ]
    },
    {
      "cell_type": "markdown",
      "metadata": {
        "id": "WOZd3CmHBAVH"
      },
      "source": [
        "## Draw plot"
      ]
    },
    {
      "cell_type": "code",
      "execution_count": null,
      "metadata": {
        "colab": {
          "base_uri": "https://localhost:8080/",
          "height": 430
        },
        "id": "aI9F4b65Hq8E",
        "outputId": "147dba4c-f0e5-47d5-d444-44cd09ff3467"
      },
      "outputs": [
        {
          "data": {
            "image/png": "[encoded data removed]",
            "text/plain": [
              "<Figure size 640x480 with 1 Axes>"
            ]
          },
          "metadata": {},
          "output_type": "display_data"
        }
      ],
      "source": [
        "#plt.plot(xpoints, ypoints, 'o')\n",
        "\n",
        "\n",
        "x1 = np.linspace(30,500)\n",
        "x2 = np.linspace(30,500)\n",
        "x3 = np.linspace(30,500)\n",
        "\n",
        "fig,ax = plt.subplots()\n",
        "ax.plot(x1,(model.c[1].value)*x1+model.d[1].value)\n",
        "ax.plot(x2,(model.c[2].value)*x2+model.d[2].value)\n",
        "ax.plot(x3,(model.c[3].value)*x3+model.d[3].value)\n",
        "\n",
        "\n",
        "\n",
        "ax.set_xlim((0, 510))\n",
        "ax.set_ylim((0, 38))\n",
        "\n",
        "color = ['c', 'm', 'r', 'k']\n",
        "for b in model.Bset:\n",
        "  x = []\n",
        "  y = []\n",
        "  for i in model.Iset:\n",
        "    if model.delta[i,b].value == 1:\n",
        "      x.append(X[i-1])\n",
        "      y.append(Y[i-1])\n",
        "  plt.scatter(np.asarray(x), np.asarray(y), facecolors='none', edgecolors=color[b-1])\n",
        "\n",
        "plt.show()"
      ]
    },
    {
      "cell_type": "markdown",
      "metadata": {
        "id": "UE1ZhI3yiWNu"
      },
      "source": [
        "#Model 6"
      ]
    },
    {
      "cell_type": "code",
      "execution_count": null,
      "metadata": {
        "id": "KziWczqcsuhx"
      },
      "outputs": [],
      "source": [
        "model=pyo.ConcreteModel()"
      ]
    },
    {
      "cell_type": "markdown",
      "metadata": {
        "id": "cpE74mscZffI"
      },
      "source": [
        "## index sets"
      ]
    },
    {
      "cell_type": "code",
      "execution_count": null,
      "metadata": {
        "id": "Mv5cGe9giZUS"
      },
      "outputs": [],
      "source": [
        "# B can be 3, 4 or 5\n",
        "B = 3\n",
        "model.Iset=pyo.Set(initialize=range(1,I+1))\n",
        "model.Bset=pyo.Set(initialize=range(1,B+1))"
      ]
    },
    {
      "cell_type": "markdown",
      "metadata": {
        "id": "XYx_t7qaZkQ6"
      },
      "source": [
        "## Params"
      ]
    },
    {
      "cell_type": "code",
      "execution_count": null,
      "metadata": {
        "id": "5L0VjHsws99-"
      },
      "outputs": [],
      "source": [
        "def rule_X(model, i):\n",
        "    return X[i-1]\n",
        "model.X = pyo.Param(model.Iset, initialize=rule_X)\n",
        "\n",
        "def rule_Y(model, i):\n",
        "    return Y[i-1]\n",
        "model.Y = pyo.Param(model.Iset, initialize=rule_Y)\n",
        "\n",
        "def find_C_down():\n",
        "  min_c = (model.Y[2] - model.Y[1])/(model.X[2] - model.X[1])\n",
        "  for i in range(1, I+1):\n",
        "    for j in range(1, I+1):\n",
        "      if i > j:\n",
        "        curr = (model.Y[i] - model.Y[j])/(model.X[i] - model.X[j])\n",
        "        if curr < min_c:\n",
        "          min_c = curr\n",
        "  return min_c\n",
        "\n",
        "def find_C_up():\n",
        "  max_c = (model.Y[2] - model.Y[1])/(model.X[2] - model.X[1])\n",
        "  for i in range(1, I+1):\n",
        "    for j in range(1, I+1):\n",
        "      if i > j:\n",
        "        curr = (model.Y[i] - model.Y[j])/(model.X[i] - model.X[j])\n",
        "        if curr > max_c:\n",
        "          max_c = curr\n",
        "  return max_c\n",
        "\n",
        "C_up = find_C_up()\n",
        "C_down = find_C_down()\n",
        "\n",
        "def find_D_down():\n",
        "  min_d = (model.Y[1] - C_up*model.X[1])\n",
        "  for i in range(1, I+1):\n",
        "      curr = (model.Y[i] - C_up*model.X[i])\n",
        "      curr2 = (model.Y[i] - C_down*model.X[i])\n",
        "      if curr < min_d:\n",
        "        min_d = curr\n",
        "      if curr2 < min_d:\n",
        "        min_d = curr2\n",
        "  return min_d\n",
        "\n",
        "def find_D_up():\n",
        "  max_d = (model.Y[1] - C_up*model.X[1])\n",
        "  for i in range(1, I+1):\n",
        "      curr = (model.Y[i] - C_up*model.X[i])\n",
        "      curr2 = (model.Y[i] - C_down*model.X[i])\n",
        "      if curr > max_d:\n",
        "        max_d = curr\n",
        "      if curr2 > max_d:\n",
        "        max_d = curr2\n",
        "  return max_d\n",
        "\n",
        "D_up = find_D_up()\n",
        "D_down = find_D_down()\n",
        "\n",
        "def rule_M1(model, i):\n",
        "  return max(abs(model.Y[i]-C_up*model.X[i] - D_up),\n",
        "             abs(model.Y[i] - C_up*model.X[i] - D_down),\n",
        "             abs(model.Y[i] - C_down*model.X[i] - D_up),\n",
        "             abs(model.Y[i] - C_down*model.X[i] - D_down))\n",
        "model.M1 = pyo.Param(model.Iset, initialize=rule_M1)"
      ]
    },
    {
      "cell_type": "markdown",
      "metadata": {
        "id": "f2L6fXpnZpCj"
      },
      "source": [
        "## Decisions variables"
      ]
    },
    {
      "cell_type": "code",
      "execution_count": null,
      "metadata": {
        "id": "tQFZaNsjtEFy"
      },
      "outputs": [],
      "source": [
        "model.c = pyo.Var(model.Bset, bounds=(C_down,C_up))\n",
        "model.d = pyo.Var(model.Bset, bounds=(D_down,D_up))\n",
        "model.cesi = pyo.Var(model.Iset, domain = pyo.NonNegativeReals)\n",
        "model.delta = pyo.Var(model.Iset, model.Bset, domain=pyo.Binary)"
      ]
    },
    {
      "cell_type": "markdown",
      "metadata": {
        "id": "Yjy1Su73ZvB8"
      },
      "source": [
        "## Objective function"
      ]
    },
    {
      "cell_type": "code",
      "execution_count": null,
      "metadata": {
        "id": "7Oupa_XltLE1"
      },
      "outputs": [],
      "source": [
        "def rule_obj(model):\n",
        "    return sum(model.cesi[i] for i in model.Iset)\n",
        "model.obj=pyo.Objective(rule=rule_obj, sense=pyo.minimize)"
      ]
    },
    {
      "cell_type": "markdown",
      "metadata": {
        "id": "O233V32CZ3tD"
      },
      "source": [
        "## Constraint"
      ]
    },
    {
      "cell_type": "code",
      "execution_count": null,
      "metadata": {
        "id": "1fWmZzqFtU2C"
      },
      "outputs": [],
      "source": [
        "def rule_const1(model, i, b):\n",
        "   if b == B:\n",
        "      return pyo.Constraint.Skip\n",
        "   return model.Y[i] - (model.c[b] * model.X[i] + model.d[b]) <= model.cesi[i] + model.M1[i] * (1-model.delta[i,b])\n",
        "model.const1=pyo.Constraint(model.Iset, model.Bset, rule=rule_const1)\n",
        "\n",
        "def rule_const2(model, i, b):\n",
        "  if b == B:\n",
        "    return pyo.Constraint.Skip\n",
        "  return  - model.Y[i] + (model.c[b]* model.X[i] + model.d[b]) <= model.cesi[i]\n",
        "model.const2=pyo.Constraint(model.Iset, model.Bset, rule=rule_const2)\n",
        "\n",
        "def rule_const3(model, i):\n",
        "  return sum(model.delta[i, b] for b in model.Bset if b!=B) == 1\n",
        "model.const3=pyo.Constraint(model.Iset, rule=rule_const3)\n",
        "\n",
        "def rule_const4(model, b):\n",
        "  if b == B or b == B-1:\n",
        "    return pyo.Constraint.Skip\n",
        "  return model.c[b]<= model.c[b+1]\n",
        "model.const4=pyo.Constraint(model.Bset, rule=rule_const4)"
      ]
    },
    {
      "cell_type": "markdown",
      "metadata": {
        "id": "UPjYkpRNaFf3"
      },
      "source": [
        "## Solve model and results"
      ]
    },
    {
      "cell_type": "code",
      "execution_count": null,
      "metadata": {
        "colab": {
          "base_uri": "https://localhost:8080/"
        },
        "id": "smq5zTVRYTRq",
        "outputId": "c9c42855-6f98-46fd-f20c-ec71e49b0ed9"
      },
      "outputs": [
        {
          "output_type": "stream",
          "name": "stdout",
          "text": [
            "\n",
            "Problem: \n",
            "- Name: \n",
            "  Lower bound: 66.66212423036006\n",
            "  Upper bound: 66.66212423036006\n",
            "  Number of objectives: 1\n",
            "  Number of constraints: 221\n",
            "  Number of variables: 182\n",
            "  Number of binary variables: 132\n",
            "  Number of integer variables: 0\n",
            "  Number of continuous variables: 50\n",
            "  Number of nonzeros: None\n",
            "  Sense: 1\n",
            "Solver: \n",
            "- Name: CPLEX 22.1.1.0\n",
            "  Status: ok\n",
            "  Wallclock time: 1.6224136352539062\n",
            "  Termination condition: optimal\n",
            "Solution: \n",
            "- number of solutions: 0\n",
            "  number of solutions displayed: 0\n",
            "\n"
          ]
        }
      ],
      "source": [
        "solver=pyo.SolverFactory('cplex_direct')\n",
        "result = solver.solve(model)\n",
        "print(result)"
      ]
    },
    {
      "cell_type": "markdown",
      "metadata": {
        "id": "FuFzKKbQxMDc"
      },
      "source": [
        "## Draw plot"
      ]
    },
    {
      "cell_type": "code",
      "execution_count": null,
      "metadata": {
        "colab": {
          "base_uri": "https://localhost:8080/",
          "height": 430
        },
        "id": "fGZFqeVxB3Ha",
        "outputId": "7ff69447-1edc-48df-f767-adbd05805984"
      },
      "outputs": [
        {
          "output_type": "display_data",
          "data": {
            "text/plain": [
              "<Figure size 640x480 with 1 Axes>"
            ],
            "image/png": "[encoded data removed]"
          },
          "metadata": {}
        }
      ],
      "source": [
        "\n",
        "x1 = np.linspace(30,500)\n",
        "x2 = np.linspace(30,500)\n",
        "# x3 = np.linspace(30,500)\n",
        "# x4 = np.linspace(30,500)\n",
        "\n",
        "x = np.linspace(30, 500)\n",
        "\n",
        "fig,ax = plt.subplots()\n",
        "ax.plot(x1,(model.c[1].value)*x1+model.d[1].value, linestyle = \"dashed\")\n",
        "ax.plot(x2,(model.c[2].value)*x2+model.d[2].value, linestyle = \"dashed\")\n",
        "# ax.plot(x3,(model.c[3].value)*x3+model.d[3].value, linestyle = \"dashed\")\n",
        "# ax.plot(x4,(model.c[4].value)*x3+model.d[4].value, linestyle = \"dashed\")\n",
        "\n",
        "ax.plot(x, np.maximum((model.c[1].value)*x+model.d[1].value,\n",
        "                      (model.c[2].value)*x+model.d[2].value)\n",
        "                     )\n",
        "\n",
        "\n",
        "\n",
        "ax.set_xlim((0, 510))\n",
        "ax.set_ylim((0, 38))\n",
        "\n",
        "color = ['r', 'm', 'c', 'k']\n",
        "#plt.plot(xpoints, ypoints, 'o')\n",
        "for b in range(1, B):\n",
        "  x = []\n",
        "  y = []\n",
        "  for i in model.Iset:\n",
        "    if model.delta[i,b].value == 1:\n",
        "      x.append(X[i-1])\n",
        "      y.append(Y[i-1])\n",
        "  plt.scatter(np.asarray(x), np.asarray(y), facecolors='none', edgecolors=color[b-1])\n",
        "\n",
        "plt.show()"
      ]
    },
    {
      "cell_type": "markdown",
      "metadata": {
        "id": "IeQUCBokxMJR"
      },
      "source": [
        "#Model 7"
      ]
    },
    {
      "cell_type": "code",
      "execution_count": null,
      "metadata": {
        "id": "ryUR1wEmxKYr"
      },
      "outputs": [],
      "source": [
        "model=pyo.ConcreteModel()"
      ]
    },
    {
      "cell_type": "markdown",
      "metadata": {
        "id": "dp7c1TjVxkuo"
      },
      "source": [
        "## index sets"
      ]
    },
    {
      "cell_type": "code",
      "execution_count": null,
      "metadata": {
        "id": "-0fvchIlxr7R"
      },
      "outputs": [],
      "source": [
        "#B can be 3, 4 or 5\n",
        "B = 5\n",
        "model.Iset=pyo.Set(initialize=range(1,I+1))\n",
        "model.Bset=pyo.Set(initialize=range(1,B+1))"
      ]
    },
    {
      "cell_type": "markdown",
      "metadata": {
        "id": "OLUuFbRzxvWt"
      },
      "source": [
        "## Params"
      ]
    },
    {
      "cell_type": "code",
      "execution_count": null,
      "metadata": {
        "id": "UF6Boubcx2Ou"
      },
      "outputs": [],
      "source": [
        "def rule_X(model, i):\n",
        "    return X[i-1]\n",
        "model.X = pyo.Param(model.Iset, initialize=rule_X)\n",
        "\n",
        "def rule_Y(model, i):\n",
        "    return Y[i-1]\n",
        "model.Y = pyo.Param(model.Iset, initialize=rule_Y)\n",
        "\n",
        "def find_C_down():\n",
        "  min_c = (model.Y[2] - model.Y[1])/(model.X[2] - model.X[1])\n",
        "  for i in range(1, I+1):\n",
        "    for j in range(1, I+1):\n",
        "      if i > j:\n",
        "        curr = (model.Y[i] - model.Y[j])/(model.X[i] - model.X[j])\n",
        "        if curr < min_c:\n",
        "          min_c = curr\n",
        "  return min_c\n",
        "\n",
        "def find_C_up():\n",
        "  max_c = (model.Y[2] - model.Y[1])/(model.X[2] - model.X[1])\n",
        "  for i in range(1, I+1):\n",
        "    for j in range(1, I+1):\n",
        "      if i > j:\n",
        "        curr = (model.Y[i] - model.Y[j])/(model.X[i] - model.X[j])\n",
        "        if curr > max_c:\n",
        "          max_c = curr\n",
        "  return max_c\n",
        "\n",
        "C_up = find_C_up()\n",
        "C_down = find_C_down()\n",
        "\n",
        "def find_D_down():\n",
        "  min_d = (model.Y[1] - C_up*model.X[1])\n",
        "  for i in range(1, I+1):\n",
        "      curr = (model.Y[i] - C_up*model.X[i])\n",
        "      curr2 = (model.Y[i] - C_down*model.X[i])\n",
        "      if curr < min_d:\n",
        "        min_d = curr\n",
        "      if curr2 < min_d:\n",
        "        min_d = curr2\n",
        "  return min_d\n",
        "\n",
        "def find_D_up():\n",
        "  max_d = (model.Y[1] - C_up*model.X[1])\n",
        "  for i in range(1, I+1):\n",
        "      curr = (model.Y[i] - C_up*model.X[i])\n",
        "      curr2 = (model.Y[i] - C_down*model.X[i])\n",
        "      if curr > max_d:\n",
        "        max_d = curr\n",
        "      if curr2 > max_d:\n",
        "        max_d = curr2\n",
        "  return max_d\n",
        "\n",
        "D_up = find_D_up()\n",
        "D_down = find_D_down()\n",
        "\n",
        "def rule_M1(model, i):\n",
        "  return max(abs(model.Y[i]-C_up*model.X[i] - D_up),\n",
        "             abs(model.Y[i] - C_up*model.X[i] - D_down),\n",
        "             abs(model.Y[i] - C_down*model.X[i] - D_up),\n",
        "             abs(model.Y[i] - C_down*model.X[i] - D_down))\n",
        "model.M1 = pyo.Param(model.Iset, initialize=rule_M1)\n",
        "\n",
        "def rule_M2(model, i):\n",
        "  return D_up-D_down-model.X[i]*(C_down-C_up)\n",
        "model.M2 = pyo.Param(model.Iset, initialize=rule_M2)"
      ]
    },
    {
      "cell_type": "markdown",
      "metadata": {
        "id": "d92PK3VoxBOT"
      },
      "source": [
        "##Decision variables"
      ]
    },
    {
      "cell_type": "code",
      "execution_count": null,
      "metadata": {
        "id": "By6w3IeBw9bV"
      },
      "outputs": [],
      "source": [
        "model.c = pyo.Var(model.Bset, bounds=(C_down,C_up))\n",
        "model.d = pyo.Var(model.Bset, bounds=(D_down,D_up))\n",
        "model.cesi = pyo.Var(model.Iset, domain = pyo.NonNegativeReals)\n",
        "model.delta = pyo.Var(model.Iset, model.Bset, domain=pyo.Binary)\n",
        "model.delta_p = pyo.Var(model.Iset, model.Bset, domain=pyo.UnitInterval)\n",
        "model.delta_n = pyo.Var(model.Iset, model.Bset, domain=pyo.UnitInterval)\n",
        "model.gama = pyo.Var(model.Bset, domain=pyo.Binary)"
      ]
    },
    {
      "cell_type": "markdown",
      "metadata": {
        "id": "fyl3B4sRzX-U"
      },
      "source": [
        "## Objective function"
      ]
    },
    {
      "cell_type": "code",
      "execution_count": null,
      "metadata": {
        "id": "XQJO4aGSzWbk"
      },
      "outputs": [],
      "source": [
        "def rule_obj(model):\n",
        "    return sum(model.cesi[i] for i in model.Iset)\n",
        "model.obj=pyo.Objective(rule=rule_obj, sense=pyo.minimize)"
      ]
    },
    {
      "cell_type": "markdown",
      "metadata": {
        "id": "8QalS5wjzpv_"
      },
      "source": [
        "## Constraint"
      ]
    },
    {
      "cell_type": "code",
      "execution_count": null,
      "metadata": {
        "id": "plnir6zjzpD7"
      },
      "outputs": [],
      "source": [
        "def rule_const1(model, i, b):\n",
        "    return model.Y[i] - (model.c[b] * model.X[i] + model.d[b]) <= model.cesi[i] + model.M1[i] * (1-model.delta[i,b])\n",
        "model.const1=pyo.Constraint(model.Iset, model.Bset, rule=rule_const1)\n",
        "\n",
        "def rule_const2(model, i, b):\n",
        "    return  - model.Y[i] + (model.c[b] * model.X[i] + model.d[b]) <= model.cesi[i] + model.M1[i] * (1-model.delta[i,b])\n",
        "model.const2=pyo.Constraint(model.Iset, model.Bset, rule=rule_const2)\n",
        "\n",
        "def rule_const3(model, i):\n",
        "  return sum(model.delta[i, b] for b in model.Bset if b != B) == 1\n",
        "model.const3=pyo.Constraint(model.Iset, rule=rule_const3)\n",
        "\n",
        "def rule_const4(model, i, b):\n",
        "  if i == I:\n",
        "    return pyo.Constraint.Skip\n",
        "  elif b == B:\n",
        "    return pyo.Constraint.Skip\n",
        "  else:\n",
        "    return model.delta[i+1, b+1] <= model.delta[i, b] + model.delta[i, b+1]\n",
        "model.const4=pyo.Constraint(model.Iset, model.Bset,  rule=rule_const4)\n",
        "\n",
        "def rule_const5(model, i):\n",
        "  if i == I:\n",
        "    return pyo.Constraint.Skip\n",
        "  else:\n",
        "    return model.delta[i+1, 1] <= model.delta[i, 1]\n",
        "model.const5=pyo.Constraint(model.Iset, rule=rule_const5)\n",
        "\n",
        "def rule_const6(model, i):\n",
        "  if i == I:\n",
        "    return pyo.Constraint.Skip\n",
        "  else:\n",
        "    return model.delta[i, B] <= model.delta[i+1, B]\n",
        "model.const6=pyo.Constraint(model.Iset, rule=rule_const6)\n",
        "\n",
        "def rule_const7(model, i, b):\n",
        "  if i == I:\n",
        "    return pyo.Constraint.Skip\n",
        "  elif b == B or b == B-1:\n",
        "    return pyo.Constraint.Skip\n",
        "  else:\n",
        "    return model.delta[i, b] + model.delta[i+1, b+1] + model.gama[b] - 2 <= model.delta_p[i, b]\n",
        "model.const7=pyo.Constraint(model.Iset, model.Bset, rule=rule_const7)\n",
        "\n",
        "def rule_const8(model, i, b):\n",
        "  if i == I:\n",
        "    return pyo.Constraint.Skip\n",
        "  elif b == B or b == B-1:\n",
        "    return pyo.Constraint.Skip\n",
        "  else:\n",
        "    return model.delta[i, b] + model.delta[i+1, b+1] + (1-model.gama[b]) - 2 <= model.delta_n[i, b]\n",
        "model.const8=pyo.Constraint(model.Iset, model.Bset, rule=rule_const8)\n",
        "\n",
        "def rule_const9(model, i, b):\n",
        "  if i == I:\n",
        "    return pyo.Constraint.Skip\n",
        "  elif b == B or b == B-1:\n",
        "    return pyo.Constraint.Skip\n",
        "  else:\n",
        "    return model.d[b+1] - model.d[b] >= model.X[i]*(model.c[b]-model.c[b+1]) - model.M2[i]*(1-model.delta_p[i, b])\n",
        "model.const9=pyo.Constraint(model.Iset, model.Bset, rule=rule_const9)\n",
        "\n",
        "def rule_const10(model, i, b):\n",
        "  if i == I:\n",
        "    return pyo.Constraint.Skip\n",
        "  elif b == B or b == B-1:\n",
        "    return pyo.Constraint.Skip\n",
        "  else:\n",
        "    return model.d[b+1] - model.d[b] <= model.X[i+1]*(model.c[b]-model.c[b+1]) + model.M2[i+1]*(1-model.delta_p[i, b])\n",
        "model.const10=pyo.Constraint(model.Iset, model.Bset, rule=rule_const10)\n",
        "\n",
        "def rule_const11(model, i, b):\n",
        "  if i == I:\n",
        "    return pyo.Constraint.Skip\n",
        "  elif b == B or b == B-1:\n",
        "    return pyo.Constraint.Skip\n",
        "  else:\n",
        "    return model.d[b+1] - model.d[b] <= model.X[i]*(model.c[b]-model.c[b+1]) + model.M2[i]*(1-model.delta_n[i, b])\n",
        "model.const11=pyo.Constraint(model.Iset, model.Bset, rule=rule_const11)\n",
        "\n",
        "def rule_const12(model, i, b):\n",
        "  if i == I:\n",
        "    return pyo.Constraint.Skip\n",
        "  elif b == B or b == B-1:\n",
        "    return pyo.Constraint.Skip\n",
        "  else:\n",
        "    return model.d[b+1] - model.d[b] >= model.X[i+1]*(model.c[b]-model.c[b+1]) - model.M2[i+1]*(1-model.delta_n[i, b])\n",
        "model.const12=pyo.Constraint(model.Iset, model.Bset, rule=rule_const12)"
      ]
    },
    {
      "cell_type": "markdown",
      "metadata": {
        "id": "mPu0xUHa98tz"
      },
      "source": [
        "## Solve model and results"
      ]
    },
    {
      "cell_type": "code",
      "execution_count": null,
      "metadata": {
        "colab": {
          "base_uri": "https://localhost:8080/"
        },
        "id": "lwgaqr4w-Cld",
        "outputId": "2d730d29-c743-4104-993c-81bfe4b614a5"
      },
      "outputs": [
        {
          "name": "stdout",
          "output_type": "stream",
          "text": [
            "\n",
            "Problem: \n",
            "- Name: unknown\n",
            "  Lower bound: 10.7453531883832\n",
            "  Upper bound: 10.7453531883832\n",
            "  Number of objectives: 1\n",
            "  Number of constraints: 1516\n",
            "  Number of variables: 535\n",
            "  Number of nonzeros: 6236\n",
            "  Sense: minimize\n",
            "Solver: \n",
            "- Status: ok\n",
            "  Termination condition: optimal\n",
            "  Statistics: \n",
            "    Branch and bound: \n",
            "      Number of bounded subproblems: 1349\n",
            "      Number of created subproblems: 1349\n",
            "  Error rc: 0\n",
            "  Time: 2.552682638168335\n",
            "Solution: \n",
            "- number of solutions: 0\n",
            "  number of solutions displayed: 0\n",
            "\n"
          ]
        }
      ],
      "source": [
        "result=pyo.SolverFactory('glpk').solve(model, 'glpk')\n",
        "print(result)"
      ]
    },
    {
      "cell_type": "code",
      "execution_count": null,
      "metadata": {
        "id": "6qHHVwvA6nhR"
      },
      "outputs": [],
      "source": [
        "# for i in model.Iset:\n",
        "#   for b in model.Bset:\n",
        "#     print(\"delta:\")\n",
        "#     print(model.delta[i,b].value)\n",
        "    #print(model.delta_p[i,b].value)\n",
        "    #print(model.delta_n[i,b].value)"
      ]
    },
    {
      "cell_type": "markdown",
      "metadata": {
        "id": "l8cLpZU9O4NU"
      },
      "source": [
        "## Draw plot"
      ]
    },
    {
      "cell_type": "code",
      "execution_count": null,
      "metadata": {
        "colab": {
          "base_uri": "https://localhost:8080/",
          "height": 430
        },
        "id": "eXNBQf_UO6UJ",
        "outputId": "344e5ff8-1613-45ab-94c4-80d5d0996c9b"
      },
      "outputs": [
        {
          "data": {
            "image/png": "[encoded data removed]",
            "text/plain": [
              "<Figure size 640x480 with 1 Axes>"
            ]
          },
          "metadata": {},
          "output_type": "display_data"
        }
      ],
      "source": [
        "# for i in range(1, B+1):\n",
        "#   print(model.d[i].value)\n",
        "#   print(model.c[i].value)\n",
        "\n",
        "# print(model.d[3].value - model.d[2].value)\n",
        "# print(model.c[2].value - model.c[3].value)\n",
        "# print((model.d[3].value - model.d[2].value)/(model.c[2].value - model.c[3].value))\n",
        "\n",
        "# print(model.d[2].value - model.d[1].value)\n",
        "# print(model.c[1].value - model.c[2].value)\n",
        "# print((model.d[2].value - model.d[1].value)/(model.c[1].value - model.c[2].value))\n",
        "\n",
        "r1 = (model.d[2].value - model.d[1].value)/(model.c[1].value - model.c[2].value)\n",
        "r2 = (model.d[3].value - model.d[2].value)/(model.c[2].value - model.c[3].value)\n",
        "r3 = (model.d[4].value - model.d[3].value)/(model.c[3].value - model.c[4].value)\n",
        "\n",
        "x1 = np.linspace(30,r1)\n",
        "x2 = np.linspace(r1,r2)\n",
        "x3 = np.linspace(r2,r3)\n",
        "x4 = np.linspace(r3,500)\n",
        "\n",
        "fig,ax = plt.subplots()\n",
        "ax.plot(x1,(model.c[1].value)*x1+model.d[1].value)\n",
        "ax.plot(x2,(model.c[2].value)*x2+model.d[2].value)\n",
        "ax.plot(x3,(model.c[3].value)*x3+model.d[3].value)\n",
        "ax.plot(x4,(model.c[4].value)*x4+model.d[4].value)\n",
        "\n",
        "\n",
        "\n",
        "ax.set_xlim((0, 510))\n",
        "ax.set_ylim((0, 38))\n",
        "\n",
        "color = ['r', 'm', 'c', 'k']\n",
        "#plt.plot(xpoints, ypoints, 'o')\n",
        "for b in range(1, B):\n",
        "  x = []\n",
        "  y = []\n",
        "  for i in model.Iset:\n",
        "    if model.delta[i,b].value == 1:\n",
        "      #print(i, b)\n",
        "      x.append(X[i-1])\n",
        "      y.append(Y[i-1])\n",
        "  plt.scatter(np.asarray(x), np.asarray(y), facecolors='none', edgecolors=color[b-1])\n",
        "\n",
        "plt.show()"
      ]
    },
    {
      "cell_type": "markdown",
      "metadata": {
        "id": "PVHVRG53I-lv"
      },
      "source": [
        "# Model 7(without gamma)"
      ]
    },
    {
      "cell_type": "code",
      "execution_count": null,
      "metadata": {
        "id": "gUrM55pUJDLh"
      },
      "outputs": [],
      "source": [
        "model=pyo.ConcreteModel()"
      ]
    },
    {
      "cell_type": "markdown",
      "metadata": {
        "id": "u8WRayWfJDil"
      },
      "source": [
        "## index sets"
      ]
    },
    {
      "cell_type": "code",
      "execution_count": null,
      "metadata": {
        "id": "TlGD1qXGJFSW"
      },
      "outputs": [],
      "source": [
        "#B can be 3, 4 or 5\n",
        "B = 5\n",
        "model.Iset=pyo.Set(initialize=range(1,I+1))\n",
        "model.Bset=pyo.Set(initialize=range(1,B+1))"
      ]
    },
    {
      "cell_type": "markdown",
      "metadata": {
        "id": "jhSI8djTJFqg"
      },
      "source": [
        "## Params"
      ]
    },
    {
      "cell_type": "code",
      "execution_count": null,
      "metadata": {
        "id": "yks__KQgJHzP"
      },
      "outputs": [],
      "source": [
        "def rule_X(model, i):\n",
        "    return X[i-1]\n",
        "model.X = pyo.Param(model.Iset, initialize=rule_X)\n",
        "\n",
        "def rule_Y(model, i):\n",
        "    return Y[i-1]\n",
        "model.Y = pyo.Param(model.Iset, initialize=rule_Y)\n",
        "\n",
        "def find_C_down():\n",
        "  min_c = (model.Y[2] - model.Y[1])/(model.X[2] - model.X[1])\n",
        "  for i in range(1, I+1):\n",
        "    for j in range(1, I+1):\n",
        "      if i > j:\n",
        "        curr = (model.Y[i] - model.Y[j])/(model.X[i] - model.X[j])\n",
        "        if curr < min_c:\n",
        "          min_c = curr\n",
        "  return min_c\n",
        "\n",
        "def find_C_up():\n",
        "  max_c = (model.Y[2] - model.Y[1])/(model.X[2] - model.X[1])\n",
        "  for i in range(1, I+1):\n",
        "    for j in range(1, I+1):\n",
        "      if i > j:\n",
        "        curr = (model.Y[i] - model.Y[j])/(model.X[i] - model.X[j])\n",
        "        if curr > max_c:\n",
        "          max_c = curr\n",
        "  return max_c\n",
        "\n",
        "C_up = find_C_up()\n",
        "C_down = find_C_down()\n",
        "\n",
        "def find_D_down():\n",
        "  min_d = (model.Y[1] - C_up*model.X[1])\n",
        "  for i in range(1, I+1):\n",
        "      curr = (model.Y[i] - C_up*model.X[i])\n",
        "      curr2 = (model.Y[i] - C_down*model.X[i])\n",
        "      if curr < min_d:\n",
        "        min_d = curr\n",
        "      if curr2 < min_d:\n",
        "        min_d = curr2\n",
        "  return min_d\n",
        "\n",
        "def find_D_up():\n",
        "  max_d = (model.Y[1] - C_up*model.X[1])\n",
        "  for i in range(1, I+1):\n",
        "      curr = (model.Y[i] - C_up*model.X[i])\n",
        "      curr2 = (model.Y[i] - C_down*model.X[i])\n",
        "      if curr > max_d:\n",
        "        max_d = curr\n",
        "      if curr2 > max_d:\n",
        "        max_d = curr2\n",
        "  return max_d\n",
        "\n",
        "D_up = find_D_up()\n",
        "D_down = find_D_down()\n",
        "\n",
        "def rule_M1(model, i):\n",
        "  return max(abs(model.Y[i]-C_up*model.X[i] - D_up),\n",
        "             abs(model.Y[i] - C_up*model.X[i] - D_down),\n",
        "             abs(model.Y[i] - C_down*model.X[i] - D_up),\n",
        "             abs(model.Y[i] - C_down*model.X[i] - D_down))\n",
        "model.M1 = pyo.Param(model.Iset, initialize=rule_M1)\n",
        "\n",
        "def rule_M2(model, i):\n",
        "  return D_up-D_down-model.X[i]*(C_down-C_up)\n",
        "model.M2 = pyo.Param(model.Iset, initialize=rule_M2)"
      ]
    },
    {
      "cell_type": "markdown",
      "metadata": {
        "id": "B0ebJaObJIN6"
      },
      "source": [
        "## Decision variables"
      ]
    },
    {
      "cell_type": "code",
      "execution_count": null,
      "metadata": {
        "id": "kTAp42dLJL3d"
      },
      "outputs": [],
      "source": [
        "model.c = pyo.Var(model.Bset, bounds=(C_down,C_up))\n",
        "model.d = pyo.Var(model.Bset, bounds=(D_down,D_up))\n",
        "model.cesi = pyo.Var(model.Iset, domain = pyo.NonNegativeReals)\n",
        "model.delta = pyo.Var(model.Iset, model.Bset, domain=pyo.Binary)\n",
        "model.delta_p = pyo.Var(model.Iset, model.Bset, domain=pyo.Binary)\n",
        "model.delta_n = pyo.Var(model.Iset, model.Bset, domain=pyo.Binary)"
      ]
    },
    {
      "cell_type": "markdown",
      "metadata": {
        "id": "LvWz1hi5JMtq"
      },
      "source": [
        "## Objective function"
      ]
    },
    {
      "cell_type": "code",
      "execution_count": null,
      "metadata": {
        "id": "eKZW3UdsJR8s"
      },
      "outputs": [],
      "source": [
        "def rule_obj(model):\n",
        "    return sum(model.cesi[i] for i in model.Iset)\n",
        "model.obj=pyo.Objective(rule=rule_obj, sense=pyo.minimize)"
      ]
    },
    {
      "cell_type": "markdown",
      "metadata": {
        "id": "_4MkD3rfJS7H"
      },
      "source": [
        "## Constraint"
      ]
    },
    {
      "cell_type": "code",
      "execution_count": null,
      "metadata": {
        "id": "mrbmerDNJVRD"
      },
      "outputs": [],
      "source": [
        "def rule_const1(model, i, b):\n",
        "    return model.Y[i] - (model.c[b] * model.X[i] + model.d[b]) <= model.cesi[i] + model.M1[i] * (1-model.delta[i,b])\n",
        "model.const1=pyo.Constraint(model.Iset, model.Bset, rule=rule_const1)\n",
        "\n",
        "def rule_const2(model, i, b):\n",
        "    return  - model.Y[i] + (model.c[b] * model.X[i] + model.d[b]) <= model.cesi[i] + model.M1[i] * (1-model.delta[i,b])\n",
        "model.const2=pyo.Constraint(model.Iset, model.Bset, rule=rule_const2)\n",
        "\n",
        "def rule_const3(model, i):\n",
        "  return sum(model.delta[i, b] for b in model.Bset if b != B) == 1\n",
        "model.const3=pyo.Constraint(model.Iset, rule=rule_const3)\n",
        "\n",
        "def rule_const4(model, i, b):\n",
        "  if i == I:\n",
        "    return pyo.Constraint.Skip\n",
        "  elif b == B:\n",
        "    return pyo.Constraint.Skip\n",
        "  else:\n",
        "    return model.delta[i+1, b+1] <= model.delta[i, b] + model.delta[i, b+1]\n",
        "model.const4=pyo.Constraint(model.Iset, model.Bset,  rule=rule_const4)\n",
        "\n",
        "def rule_const5(model, i):\n",
        "  if i == I:\n",
        "    return pyo.Constraint.Skip\n",
        "  else:\n",
        "    return model.delta[i+1, 1] <= model.delta[i, 1]\n",
        "model.const5=pyo.Constraint(model.Iset, rule=rule_const5)\n",
        "\n",
        "def rule_const6(model, i):\n",
        "  if i == I:\n",
        "    return pyo.Constraint.Skip\n",
        "  else:\n",
        "    return model.delta[i, B] <= model.delta[i+1, B]\n",
        "model.const6=pyo.Constraint(model.Iset, rule=rule_const6)\n",
        "\n",
        "\n",
        "def rule_const9(model, i, b):\n",
        "  if i == I:\n",
        "    return pyo.Constraint.Skip\n",
        "  elif b == B or b == B-1:\n",
        "    return pyo.Constraint.Skip\n",
        "  else:\n",
        "    return model.d[b+1] - model.d[b] >= model.X[i]*(model.c[b]-model.c[b+1]) - model.M2[i]*(1-model.delta_p[i, b])\n",
        "model.const9=pyo.Constraint(model.Iset, model.Bset, rule=rule_const9)\n",
        "\n",
        "def rule_const10(model, i, b):\n",
        "  if i == I:\n",
        "    return pyo.Constraint.Skip\n",
        "  elif b == B or b == B-1:\n",
        "    return pyo.Constraint.Skip\n",
        "  else:\n",
        "    return model.d[b+1] - model.d[b] <= model.X[i+1]*(model.c[b]-model.c[b+1]) + model.M2[i+1]*(1-model.delta_p[i, b])\n",
        "model.const10=pyo.Constraint(model.Iset, model.Bset, rule=rule_const10)\n",
        "\n",
        "def rule_const11(model, i, b):\n",
        "  if i == I:\n",
        "    return pyo.Constraint.Skip\n",
        "  elif b == B or b == B-1:\n",
        "    return pyo.Constraint.Skip\n",
        "  else:\n",
        "    return model.d[b+1] - model.d[b] <= model.X[i]*(model.c[b]-model.c[b+1]) + model.M2[i]*(1-model.delta_n[i, b])\n",
        "model.const11=pyo.Constraint(model.Iset, model.Bset, rule=rule_const11)\n",
        "\n",
        "def rule_const12(model, i, b):\n",
        "  if i == I:\n",
        "    return pyo.Constraint.Skip\n",
        "  elif b == B or b == B-1:\n",
        "    return pyo.Constraint.Skip\n",
        "  else:\n",
        "    return model.d[b+1] - model.d[b] >= model.X[i+1]*(model.c[b]-model.c[b+1]) - model.M2[i+1]*(1-model.delta_n[i, b])\n",
        "model.const12=pyo.Constraint(model.Iset, model.Bset, rule=rule_const12)\n",
        "\n",
        "def rule_const13(model, i, b):\n",
        "  if i == I:\n",
        "    return pyo.Constraint.Skip\n",
        "  elif b == B or b == B-1:\n",
        "    return pyo.Constraint.Skip\n",
        "  else:\n",
        "    return model.delta_p[i, b] + model.delta_n[i, b]+ 1 >= model.delta[i, b] + model.delta[i+1, b+1]\n",
        "model.const13=pyo.Constraint(model.Iset, model.Bset, rule=rule_const13)"
      ]
    },
    {
      "cell_type": "markdown",
      "metadata": {
        "id": "FrxWSyWhJVzZ"
      },
      "source": [
        "## Solve model and results"
      ]
    },
    {
      "cell_type": "code",
      "execution_count": null,
      "metadata": {
        "colab": {
          "base_uri": "https://localhost:8080/"
        },
        "id": "tN29-xZpJZTC",
        "outputId": "819d1bab-14ca-4675-fc5d-4752119e30c6"
      },
      "outputs": [
        {
          "output_type": "stream",
          "name": "stdout",
          "text": [
            "\n",
            "Problem: \n",
            "- Name: unknown\n",
            "  Lower bound: 10.7453531883833\n",
            "  Upper bound: 10.7453531883833\n",
            "  Number of objectives: 1\n",
            "  Number of constraints: 1387\n",
            "  Number of variables: 532\n",
            "  Number of nonzeros: 5720\n",
            "  Sense: minimize\n",
            "Solver: \n",
            "- Status: ok\n",
            "  Termination condition: optimal\n",
            "  Statistics: \n",
            "    Branch and bound: \n",
            "      Number of bounded subproblems: 3343\n",
            "      Number of created subproblems: 3343\n",
            "  Error rc: 0\n",
            "  Time: 5.453606367111206\n",
            "Solution: \n",
            "- number of solutions: 0\n",
            "  number of solutions displayed: 0\n",
            "\n"
          ]
        }
      ],
      "source": [
        "result=pyo.SolverFactory('glpk').solve(model, 'glpk')\n",
        "print(result)"
      ]
    },
    {
      "cell_type": "markdown",
      "metadata": {
        "id": "dDs6kZ2JJY2W"
      },
      "source": [
        "## Draw plot"
      ]
    },
    {
      "cell_type": "code",
      "execution_count": null,
      "metadata": {
        "colab": {
          "base_uri": "https://localhost:8080/",
          "height": 430
        },
        "id": "hRzp13_DJcJC",
        "outputId": "a14c4726-fad2-4fba-fe2a-dc33d07135af"
      },
      "outputs": [
        {
          "output_type": "display_data",
          "data": {
            "text/plain": [
              "<Figure size 640x480 with 1 Axes>"
            ],
            "image/png": "[encoded data removed]"
          },
          "metadata": {}
        }
      ],
      "source": [
        "# for i in range(1, B+1):\n",
        "#   print(model.d[i].value)\n",
        "#   print(model.c[i].value)\n",
        "\n",
        "# print(model.d[3].value - model.d[2].value)\n",
        "# print(model.c[2].value - model.c[3].value)\n",
        "# print((model.d[3].value - model.d[2].value)/(model.c[2].value - model.c[3].value))\n",
        "\n",
        "# print(model.d[2].value - model.d[1].value)\n",
        "# print(model.c[1].value - model.c[2].value)\n",
        "# print((model.d[2].value - model.d[1].value)/(model.c[1].value - model.c[2].value))\n",
        "\n",
        "r1 = (model.d[2].value - model.d[1].value)/(model.c[1].value - model.c[2].value)\n",
        "r2 = (model.d[3].value - model.d[2].value)/(model.c[2].value - model.c[3].value)\n",
        "r3 = (model.d[4].value - model.d[3].value)/(model.c[3].value - model.c[4].value)\n",
        "\n",
        "x1 = np.linspace(30,r1)\n",
        "x2 = np.linspace(r1,r2)\n",
        "x3 = np.linspace(r2,r3)\n",
        "x4 = np.linspace(r3,500)\n",
        "\n",
        "fig,ax = plt.subplots()\n",
        "ax.plot(x1,(model.c[1].value)*x1+model.d[1].value)\n",
        "ax.plot(x2,(model.c[2].value)*x2+model.d[2].value)\n",
        "ax.plot(x3,(model.c[3].value)*x3+model.d[3].value)\n",
        "ax.plot(x4,(model.c[4].value)*x4+model.d[4].value)\n",
        "\n",
        "\n",
        "\n",
        "ax.set_xlim((0, 510))\n",
        "ax.set_ylim((0, 38))\n",
        "\n",
        "color = ['r', 'm', 'c', 'k']\n",
        "#plt.plot(xpoints, ypoints, 'o')\n",
        "for b in range(1, B):\n",
        "  x = []\n",
        "  y = []\n",
        "  for i in model.Iset:\n",
        "    if model.delta[i,b].value == 1:\n",
        "      #print(i, b)\n",
        "      x.append(X[i-1])\n",
        "      y.append(Y[i-1])\n",
        "  plt.scatter(np.asarray(x), np.asarray(y), facecolors='none', edgecolors=color[b-1])\n",
        "\n",
        "plt.show()"
      ]
    }
  ],
  "metadata": {
    "colab": {
      "provenance": [],
      "toc_visible": true
    },
    "kernelspec": {
      "display_name": "Python 3",
      "name": "python3"
    },
    "language_info": {
      "name": "python"
    }
  },
  "nbformat": 4,
  "nbformat_minor": 0
}