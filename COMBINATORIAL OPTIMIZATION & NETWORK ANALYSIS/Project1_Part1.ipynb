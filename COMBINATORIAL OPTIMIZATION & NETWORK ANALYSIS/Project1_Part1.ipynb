{
  "cells": [
    {
      "cell_type": "code",
      "execution_count": null,
      "metadata": {
        "id": "qtwBaC9Sm-uy"
      },
      "outputs": [],
      "source": [
        "!pip install -q pyomo\n",
        "!apt-get install -y -qq glpk-utils"
      ]
    },
    {
      "cell_type": "markdown",
      "source": [
        "ابتدا کتاب خانه های مورد نیاز را ایمپورت می کنیم."
      ],
      "metadata": {
        "id": "yaIxusvM3yyJ"
      }
    },
    {
      "cell_type": "code",
      "execution_count": null,
      "metadata": {
        "id": "gOqHbE3YnJGm"
      },
      "outputs": [],
      "source": [
        "import pyomo.environ as pyo\n",
        "import numpy as np\n",
        "import random\n",
        "model = pyo.ConcreteModel()"
      ]
    },
    {
      "cell_type": "code",
      "execution_count": null,
      "metadata": {
        "id": "Jkbn1R1OneNh",
        "colab": {
          "base_uri": "https://localhost:8080/"
        },
        "outputId": "f1f4afc0-4e4b-4961-a7c8-6b3a768a794f"
      },
      "outputs": [
        {
          "output_type": "stream",
          "name": "stdout",
          "text": [
            "\n",
            "Problem: \n",
            "- Name: unknown\n",
            "  Lower bound: 280.0\n",
            "  Upper bound: 280.0\n",
            "  Number of objectives: 1\n",
            "  Number of constraints: 43\n",
            "  Number of variables: 361\n",
            "  Number of nonzeros: 721\n",
            "  Sense: minimize\n",
            "Solver: \n",
            "- Status: ok\n",
            "  Termination condition: optimal\n",
            "  Statistics: \n",
            "    Branch and bound: \n",
            "      Number of bounded subproblems: 1\n",
            "      Number of created subproblems: 1\n",
            "  Error rc: 0\n",
            "  Time: 0.014383077621459961\n",
            "Solution: \n",
            "- number of solutions: 0\n",
            "  number of solutions displayed: 0\n",
            "\n"
          ]
        }
      ],
      "source": [
        "professors_number = 12\n",
        "students_number = 30\n",
        "\n",
        "c_i = np.array([1, 2 ,4, 4, 5, 2, 3, 2, 3, 2, 1, 1])\n",
        "\n",
        "p_ij = []\n",
        "for i in range(professors_number):\n",
        "  p_i = list(k for k in range(1, students_number+1))\n",
        "  random.shuffle(p_i)\n",
        "  p_ij.append(p_i)\n",
        "p_ij = np.array(p_ij)\n",
        "\n",
        "q_ij = []\n",
        "for i in range(students_number):\n",
        "  q_i = list(k for k in range(1, professors_number+1))\n",
        "  random.shuffle(q_i)\n",
        "  q_ij.append(q_i)\n",
        "q_ij = np.array(q_ij)\n",
        "\n",
        "#Index\n",
        "model.Iset = pyo.Set(initialize=range(1, professors_number+1))\n",
        "model.Jset = pyo.Set(initialize=range(1, students_number+1))\n",
        "\n",
        "#Params\n",
        "def rule_p(model, i, j):\n",
        "    return p_ij[i-1][j-1]\n",
        "model.p = pyo.Param(model.Iset, model.Jset,initialize=rule_p)\n",
        "\n",
        "def rule_q(model, i, j):\n",
        "    return q_ij[j-1][i-1]\n",
        "model.q = pyo.Param(model.Iset, model.Jset,initialize=rule_q)\n",
        "\n",
        "def rule_c(model, i):\n",
        "    return c_i[i-1]\n",
        "model.c = pyo.Param(model.Iset, initialize=rule_c)\n",
        "\n",
        "\n",
        "#Variables\n",
        "model.delta = pyo.Var(model.Iset, model.Jset, domain=pyo.Binary)\n",
        "\n",
        "#ObjectiveFunction\n",
        "def rule_obj(model):\n",
        "    return sum((model.p[i, j] + model.q[i, j])*model.delta[i, j] for i in model.Iset for j in model.Jset)\n",
        "model.obj=pyo.Objective(rule=rule_obj, sense=pyo.minimize)\n",
        "\n",
        "\n",
        "#Constraint\n",
        "def rule_const1(model, j):\n",
        "      return sum(model.delta[i, j] for i in model.Iset) == 1\n",
        "model.const1=pyo.Constraint(model.Jset, rule=rule_const1)\n",
        "\n",
        "def rule_const2(model, i):\n",
        "      return sum(model.delta[i, j] for j in model.Jset) == model.c[i]\n",
        "model.const2=pyo.Constraint(model.Iset, rule=rule_const2)\n",
        "\n",
        "\n",
        "result=pyo.SolverFactory('glpk').solve(model, 'glpk')\n",
        "print(result)\n",
        "\n"
      ]
    },
    {
      "cell_type": "code",
      "source": [
        "print(p_ij)\n",
        "print(q_ij)"
      ],
      "metadata": {
        "colab": {
          "base_uri": "https://localhost:8080/"
        },
        "id": "7AQRi5ycw_TT",
        "outputId": "c6edc201-2d5e-49ff-8eb4-1aac3e5bd7be"
      },
      "execution_count": null,
      "outputs": [
        {
          "output_type": "stream",
          "name": "stdout",
          "text": [
            "[[24 25 30  9  8 13 27  6 19 26 10 29 28 16 20  7 14 15 22  3 17 23 18 11\n",
            "   2  4 21  5 12  1]\n",
            " [13 29 28 25  6 23  1 11 16 19 27 18  2  9 30  7 12 24  8 15 14  5 26 17\n",
            "  21  3 22 20  4 10]\n",
            " [24 30 25 14 10  5 20  6  2 17 18 28 13 15 21 12  8 27  7  1  9 19 22 29\n",
            "  26  3 16 11 23  4]\n",
            " [22 11 27  2  6 21 25  9  5 18 20  7 24 14 23  1 17 13 15  8 19 29 10 30\n",
            "   3  4 28 16 12 26]\n",
            " [ 7 18 10 26 29  6 15 27  2  3  9 23 16 30  8 11  1 21 20 14 28 17  5 22\n",
            "  12 24 25  4 13 19]\n",
            " [23 30 11 21 13 19  8  9 17  6 14 15 18 16  5  2  4 10  3 29 25 27 20 22\n",
            "  26 28 12  7 24  1]\n",
            " [11 18 15  2  5 24  6 12 10 23  1 17  7 14 19 28 29  3 20 16 27  9 13  4\n",
            "  21 22  8 25 26 30]\n",
            " [26 30 10 20 14 28  3  7 18 16  8  4 27 29  6 12  2 24 21  5 25 13 19 22\n",
            "  17  1 23 11  9 15]\n",
            " [ 7 28 14 27 21  9 10 22 12 17  4 15 29 24 18 26  6 13 11  1  8 25 16  2\n",
            "   5  3 19 20 23 30]\n",
            " [ 9  6 20 17  4 23 10 19  1 14 27 25 16  8 21 12 29  3 18  7 30 26 11 28\n",
            "   2 22 15 13 24  5]\n",
            " [26  7  3 10 14 18 25 29 12  8 15 27 21  1  9  4 11 16 17  6 13 28  5 20\n",
            "   2 23 22 30 19 24]\n",
            " [20  2 28  5 22 14 30  1 19  6 16 13  4 17 12 25 26  8 23 21 18  7 27 15\n",
            "  10  9 29 24  3 11]]\n",
            "[[11  5 12 10  1  7  9  4  8  2  3  6]\n",
            " [ 1  6  4 12  3  7  8 10  2 11  5  9]\n",
            " [12  4 11 10  6  1  3  9  5  2  8  7]\n",
            " [ 1  5  9  6  8 10 11  7  4  2 12  3]\n",
            " [ 9 12  6 10  4  2  3 11  8  1  7  5]\n",
            " [ 2 10 12  4 11  1  6  7  3  9  5  8]\n",
            " [ 6  8  7  1  2  5 11 10  4 12  3  9]\n",
            " [12 10  9 11  7  1  4  3  8  2  6  5]\n",
            " [ 6  8  4  1  9 11 12  3 10  7  5  2]\n",
            " [ 2 12  8  5  6  3 10  9  1 11  7  4]\n",
            " [10  7  9  4  3  5 11  1 12  2  8  6]\n",
            " [ 7  6  4  9 10  1  5  3 11  2  8 12]\n",
            " [12  2  9  3  5  7  6  8  1 11  4 10]\n",
            " [11  3  4  5 12  8  7 10  9  1  6  2]\n",
            " [ 9  6  1  2  7 12 11  5  4  8  3 10]\n",
            " [ 8  2 10  9  4  7  5  3 11  6  1 12]\n",
            " [ 6  5  8  4  3  9  1 12 10  2 11  7]\n",
            " [ 2  3  4  6  8 12  7 11  1 10  9  5]\n",
            " [11  2  6 12 10  3  1  7  9  4  8  5]\n",
            " [ 4  2 10  7  1  8  9 11  6  3  5 12]\n",
            " [ 9 11  2  6  5 12  7  3  8  1  4 10]\n",
            " [ 4 11  6  8  1  2  9  5  7 10 12  3]\n",
            " [ 4  5  9 10  8  6  1  3  2 12 11  7]\n",
            " [ 8  3  6  5 11  4 12 10  7  2  9  1]\n",
            " [ 1 12 10  3 11  5  9  4  2  8  7  6]\n",
            " [11  5  6  2  9  3 10  1 12  8  4  7]\n",
            " [ 7  8 10  3 11  2 12  4  1  6  9  5]\n",
            " [ 4 10 12  9  7  5  8 11  2  1  3  6]\n",
            " [ 2  4  7  1 11  8  9  5  6  3 12 10]\n",
            " [ 2 12 11  5  7 10  6  3  9  8  4  1]]\n"
          ]
        }
      ]
    },
    {
      "cell_type": "code",
      "source": [
        "print(\"Optimal value of delta\")\n",
        "students = []\n",
        "professors = []\n",
        "for i in model.Iset:\n",
        "  prof_i = []\n",
        "  for j in model.Jset:\n",
        "    if  pyo.value(model.delta[i, j])==1:\n",
        "        print(i, j, \": \", pyo.value(model.delta[i, j]))\n",
        "        prof_i.append(j)\n",
        "  professors.append(prof_i)\n",
        "\n",
        "for j in model.Jset:\n",
        "  for i in model.Iset:\n",
        "    if  pyo.value(model.delta[i, j])==1:\n",
        "        students.append(i)\n",
        ""
      ],
      "metadata": {
        "colab": {
          "base_uri": "https://localhost:8080/"
        },
        "id": "ISEWh17mlMHi",
        "outputId": "73facece-0956-4943-c283-8188a5636b65"
      },
      "execution_count": null,
      "outputs": [
        {
          "output_type": "stream",
          "name": "stdout",
          "text": [
            "Optimal value of delta\n",
            "1 30 :  1.0\n",
            "2 7 :  1.0\n",
            "2 13 :  1.0\n",
            "3 8 :  1.0\n",
            "3 9 :  1.0\n",
            "3 19 :  1.0\n",
            "3 21 :  1.0\n",
            "4 4 :  1.0\n",
            "4 16 :  1.0\n",
            "4 25 :  1.0\n",
            "4 29 :  1.0\n",
            "5 1 :  1.0\n",
            "5 10 :  1.0\n",
            "5 15 :  1.0\n",
            "5 17 :  1.0\n",
            "5 28 :  1.0\n",
            "6 3 :  1.0\n",
            "6 27 :  1.0\n",
            "7 11 :  1.0\n",
            "7 18 :  1.0\n",
            "7 23 :  1.0\n",
            "8 12 :  1.0\n",
            "8 26 :  1.0\n",
            "9 6 :  1.0\n",
            "9 20 :  1.0\n",
            "9 24 :  1.0\n",
            "10 5 :  1.0\n",
            "10 14 :  1.0\n",
            "11 2 :  1.0\n",
            "12 22 :  1.0\n"
          ]
        }
      ]
    },
    {
      "cell_type": "code",
      "source": [
        "professors"
      ],
      "metadata": {
        "colab": {
          "base_uri": "https://localhost:8080/"
        },
        "id": "84OGDQxLuMwl",
        "outputId": "3c261e77-7186-46fd-b20f-7371e8436f4e"
      },
      "execution_count": null,
      "outputs": [
        {
          "output_type": "execute_result",
          "data": {
            "text/plain": [
              "[[30],\n",
              " [7, 13],\n",
              " [8, 9, 19, 21],\n",
              " [4, 16, 25, 29],\n",
              " [1, 10, 15, 17, 28],\n",
              " [3, 27],\n",
              " [11, 18, 23],\n",
              " [12, 26],\n",
              " [6, 20, 24],\n",
              " [5, 14],\n",
              " [2],\n",
              " [22]]"
            ]
          },
          "metadata": {},
          "execution_count": 12
        }
      ]
    },
    {
      "cell_type": "code",
      "source": [
        "students"
      ],
      "metadata": {
        "id": "VsNCYOm-wVnT"
      },
      "execution_count": null,
      "outputs": []
    },
    {
      "cell_type": "code",
      "source": [
        "for j in model.Jset:\n",
        "  print(\"Student\", j,\" is assined to professor\", students[j -1], \"which was her\", model.q[students[j -1], j], \"priority\")\n",
        "\n",
        "for i in model.Iset:\n",
        "  for x in professors[i-1]:\n",
        "    print(\"Professor\", i,\" is assined to student\", x, \"which was her\", model.p[i, x], \"priority\")"
      ],
      "metadata": {
        "colab": {
          "base_uri": "https://localhost:8080/"
        },
        "id": "bUp2cig1lbVi",
        "outputId": "a9d1bda3-3cdc-4d15-e519-33ca266ff6c5"
      },
      "execution_count": null,
      "outputs": [
        {
          "output_type": "stream",
          "name": "stdout",
          "text": [
            "Student 1  is assined to professor 5 which was her 1 priority\n",
            "Student 2  is assined to professor 11 which was her 5 priority\n",
            "Student 3  is assined to professor 6 which was her 1 priority\n",
            "Student 4  is assined to professor 4 which was her 6 priority\n",
            "Student 5  is assined to professor 10 which was her 1 priority\n",
            "Student 6  is assined to professor 9 which was her 3 priority\n",
            "Student 7  is assined to professor 2 which was her 8 priority\n",
            "Student 8  is assined to professor 3 which was her 9 priority\n",
            "Student 9  is assined to professor 3 which was her 4 priority\n",
            "Student 10  is assined to professor 5 which was her 6 priority\n",
            "Student 11  is assined to professor 7 which was her 11 priority\n",
            "Student 12  is assined to professor 8 which was her 3 priority\n",
            "Student 13  is assined to professor 2 which was her 2 priority\n",
            "Student 14  is assined to professor 10 which was her 1 priority\n",
            "Student 15  is assined to professor 5 which was her 7 priority\n",
            "Student 16  is assined to professor 4 which was her 9 priority\n",
            "Student 17  is assined to professor 5 which was her 3 priority\n",
            "Student 18  is assined to professor 7 which was her 7 priority\n",
            "Student 19  is assined to professor 3 which was her 6 priority\n",
            "Student 20  is assined to professor 9 which was her 6 priority\n",
            "Student 21  is assined to professor 3 which was her 2 priority\n",
            "Student 22  is assined to professor 12 which was her 3 priority\n",
            "Student 23  is assined to professor 7 which was her 1 priority\n",
            "Student 24  is assined to professor 9 which was her 7 priority\n",
            "Student 25  is assined to professor 4 which was her 3 priority\n",
            "Student 26  is assined to professor 8 which was her 1 priority\n",
            "Student 27  is assined to professor 6 which was her 2 priority\n",
            "Student 28  is assined to professor 5 which was her 7 priority\n",
            "Student 29  is assined to professor 4 which was her 1 priority\n",
            "Student 30  is assined to professor 1 which was her 2 priority\n",
            "Professor 1  is assined to student 30 which was her 1 priority\n",
            "Professor 2  is assined to student 7 which was her 1 priority\n",
            "Professor 2  is assined to student 13 which was her 2 priority\n",
            "Professor 3  is assined to student 8 which was her 6 priority\n",
            "Professor 3  is assined to student 9 which was her 2 priority\n",
            "Professor 3  is assined to student 19 which was her 7 priority\n",
            "Professor 3  is assined to student 21 which was her 9 priority\n",
            "Professor 4  is assined to student 4 which was her 2 priority\n",
            "Professor 4  is assined to student 16 which was her 1 priority\n",
            "Professor 4  is assined to student 25 which was her 3 priority\n",
            "Professor 4  is assined to student 29 which was her 12 priority\n",
            "Professor 5  is assined to student 1 which was her 7 priority\n",
            "Professor 5  is assined to student 10 which was her 3 priority\n",
            "Professor 5  is assined to student 15 which was her 8 priority\n",
            "Professor 5  is assined to student 17 which was her 1 priority\n",
            "Professor 5  is assined to student 28 which was her 4 priority\n",
            "Professor 6  is assined to student 3 which was her 11 priority\n",
            "Professor 6  is assined to student 27 which was her 12 priority\n",
            "Professor 7  is assined to student 11 which was her 1 priority\n",
            "Professor 7  is assined to student 18 which was her 3 priority\n",
            "Professor 7  is assined to student 23 which was her 13 priority\n",
            "Professor 8  is assined to student 12 which was her 4 priority\n",
            "Professor 8  is assined to student 26 which was her 1 priority\n",
            "Professor 9  is assined to student 6 which was her 9 priority\n",
            "Professor 9  is assined to student 20 which was her 1 priority\n",
            "Professor 9  is assined to student 24 which was her 2 priority\n",
            "Professor 10  is assined to student 5 which was her 4 priority\n",
            "Professor 10  is assined to student 14 which was her 8 priority\n",
            "Professor 11  is assined to student 2 which was her 7 priority\n",
            "Professor 12  is assined to student 22 which was her 7 priority\n"
          ]
        }
      ]
    }
  ],
  "metadata": {
    "colab": {
      "provenance": []
    },
    "kernelspec": {
      "display_name": "Python 3",
      "name": "python3"
    },
    "language_info": {
      "name": "python"
    }
  },
  "nbformat": 4,
  "nbformat_minor": 0
}